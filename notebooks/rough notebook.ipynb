{
 "cells": [
  {
   "cell_type": "code",
   "execution_count": 12,
   "id": "126faefb",
   "metadata": {},
   "outputs": [],
   "source": [
    "import pandas as pd\n",
    "import numpy as np"
   ]
  },
  {
   "cell_type": "code",
   "execution_count": 2,
   "id": "b1b2e483",
   "metadata": {},
   "outputs": [
    {
     "data": {
      "text/html": [
       "<div>\n",
       "<style scoped>\n",
       "    .dataframe tbody tr th:only-of-type {\n",
       "        vertical-align: middle;\n",
       "    }\n",
       "\n",
       "    .dataframe tbody tr th {\n",
       "        vertical-align: top;\n",
       "    }\n",
       "\n",
       "    .dataframe thead th {\n",
       "        text-align: right;\n",
       "    }\n",
       "</style>\n",
       "<table border=\"1\" class=\"dataframe\">\n",
       "  <thead>\n",
       "    <tr style=\"text-align: right;\">\n",
       "      <th></th>\n",
       "      <th>Pregnancies</th>\n",
       "      <th>Glucose</th>\n",
       "      <th>BloodPressure</th>\n",
       "      <th>SkinThickness</th>\n",
       "      <th>Insulin</th>\n",
       "      <th>BMI</th>\n",
       "      <th>DiabetesPedigreeFunction</th>\n",
       "      <th>Age</th>\n",
       "      <th>Outcome</th>\n",
       "    </tr>\n",
       "  </thead>\n",
       "  <tbody>\n",
       "    <tr>\n",
       "      <th>0</th>\n",
       "      <td>6</td>\n",
       "      <td>148</td>\n",
       "      <td>72</td>\n",
       "      <td>35</td>\n",
       "      <td>0</td>\n",
       "      <td>33.6</td>\n",
       "      <td>0.627</td>\n",
       "      <td>50</td>\n",
       "      <td>1</td>\n",
       "    </tr>\n",
       "    <tr>\n",
       "      <th>1</th>\n",
       "      <td>1</td>\n",
       "      <td>85</td>\n",
       "      <td>66</td>\n",
       "      <td>29</td>\n",
       "      <td>0</td>\n",
       "      <td>26.6</td>\n",
       "      <td>0.351</td>\n",
       "      <td>31</td>\n",
       "      <td>0</td>\n",
       "    </tr>\n",
       "    <tr>\n",
       "      <th>2</th>\n",
       "      <td>8</td>\n",
       "      <td>183</td>\n",
       "      <td>64</td>\n",
       "      <td>0</td>\n",
       "      <td>0</td>\n",
       "      <td>23.3</td>\n",
       "      <td>0.672</td>\n",
       "      <td>32</td>\n",
       "      <td>1</td>\n",
       "    </tr>\n",
       "    <tr>\n",
       "      <th>3</th>\n",
       "      <td>1</td>\n",
       "      <td>89</td>\n",
       "      <td>66</td>\n",
       "      <td>23</td>\n",
       "      <td>94</td>\n",
       "      <td>28.1</td>\n",
       "      <td>0.167</td>\n",
       "      <td>21</td>\n",
       "      <td>0</td>\n",
       "    </tr>\n",
       "    <tr>\n",
       "      <th>4</th>\n",
       "      <td>0</td>\n",
       "      <td>137</td>\n",
       "      <td>40</td>\n",
       "      <td>35</td>\n",
       "      <td>168</td>\n",
       "      <td>43.1</td>\n",
       "      <td>2.288</td>\n",
       "      <td>33</td>\n",
       "      <td>1</td>\n",
       "    </tr>\n",
       "  </tbody>\n",
       "</table>\n",
       "</div>"
      ],
      "text/plain": [
       "   Pregnancies  Glucose  BloodPressure  SkinThickness  Insulin   BMI  \\\n",
       "0            6      148             72             35        0  33.6   \n",
       "1            1       85             66             29        0  26.6   \n",
       "2            8      183             64              0        0  23.3   \n",
       "3            1       89             66             23       94  28.1   \n",
       "4            0      137             40             35      168  43.1   \n",
       "\n",
       "   DiabetesPedigreeFunction  Age  Outcome  \n",
       "0                     0.627   50        1  \n",
       "1                     0.351   31        0  \n",
       "2                     0.672   32        1  \n",
       "3                     0.167   21        0  \n",
       "4                     2.288   33        1  "
      ]
     },
     "execution_count": 2,
     "metadata": {},
     "output_type": "execute_result"
    }
   ],
   "source": [
    "path = \"\"\"/Users/admin/Documents/Projects/wafer_fault_detection_1/code/diabetes.csv\"\"\"\n",
    "df = pd.read_csv(path)\n",
    "df.head()"
   ]
  },
  {
   "cell_type": "code",
   "execution_count": 3,
   "id": "c54855ce",
   "metadata": {},
   "outputs": [],
   "source": [
    "null_counts = df.isna().sum()"
   ]
  },
  {
   "cell_type": "code",
   "execution_count": 4,
   "id": "0e389004",
   "metadata": {},
   "outputs": [
    {
     "data": {
      "text/plain": [
       "Pregnancies                 0\n",
       "Glucose                     0\n",
       "BloodPressure               0\n",
       "SkinThickness               0\n",
       "Insulin                     0\n",
       "BMI                         0\n",
       "DiabetesPedigreeFunction    0\n",
       "Age                         0\n",
       "Outcome                     0\n",
       "dtype: int64"
      ]
     },
     "execution_count": 4,
     "metadata": {},
     "output_type": "execute_result"
    }
   ],
   "source": [
    "null_counts"
   ]
  },
  {
   "cell_type": "code",
   "execution_count": 5,
   "id": "8d10b381",
   "metadata": {},
   "outputs": [
    {
     "data": {
      "text/plain": [
       "pandas.core.series.Series"
      ]
     },
     "execution_count": 5,
     "metadata": {},
     "output_type": "execute_result"
    }
   ],
   "source": [
    "type(null_counts)"
   ]
  },
  {
   "cell_type": "code",
   "execution_count": 6,
   "id": "4774e4f6",
   "metadata": {},
   "outputs": [
    {
     "name": "stdout",
     "output_type": "stream",
     "text": [
      "0\n",
      "0\n",
      "0\n",
      "0\n",
      "0\n",
      "0\n",
      "0\n",
      "0\n",
      "0\n"
     ]
    }
   ],
   "source": [
    "for i in null_counts:\n",
    "    print(i)"
   ]
  },
  {
   "cell_type": "code",
   "execution_count": 7,
   "id": "b392136e",
   "metadata": {},
   "outputs": [],
   "source": [
    "df_with_null = pd.DataFrame()"
   ]
  },
  {
   "cell_type": "code",
   "execution_count": 8,
   "id": "55447456",
   "metadata": {},
   "outputs": [
    {
     "data": {
      "text/html": [
       "<div>\n",
       "<style scoped>\n",
       "    .dataframe tbody tr th:only-of-type {\n",
       "        vertical-align: middle;\n",
       "    }\n",
       "\n",
       "    .dataframe tbody tr th {\n",
       "        vertical-align: top;\n",
       "    }\n",
       "\n",
       "    .dataframe thead th {\n",
       "        text-align: right;\n",
       "    }\n",
       "</style>\n",
       "<table border=\"1\" class=\"dataframe\">\n",
       "  <thead>\n",
       "    <tr style=\"text-align: right;\">\n",
       "      <th></th>\n",
       "    </tr>\n",
       "  </thead>\n",
       "  <tbody>\n",
       "  </tbody>\n",
       "</table>\n",
       "</div>"
      ],
      "text/plain": [
       "Empty DataFrame\n",
       "Columns: []\n",
       "Index: []"
      ]
     },
     "execution_count": 8,
     "metadata": {},
     "output_type": "execute_result"
    }
   ],
   "source": [
    "df_with_null"
   ]
  },
  {
   "cell_type": "code",
   "execution_count": 9,
   "id": "01bbdbe1",
   "metadata": {},
   "outputs": [],
   "source": [
    "df_with_null['columns'] = df.columns"
   ]
  },
  {
   "cell_type": "code",
   "execution_count": 10,
   "id": "f5b3d032",
   "metadata": {},
   "outputs": [
    {
     "data": {
      "text/html": [
       "<div>\n",
       "<style scoped>\n",
       "    .dataframe tbody tr th:only-of-type {\n",
       "        vertical-align: middle;\n",
       "    }\n",
       "\n",
       "    .dataframe tbody tr th {\n",
       "        vertical-align: top;\n",
       "    }\n",
       "\n",
       "    .dataframe thead th {\n",
       "        text-align: right;\n",
       "    }\n",
       "</style>\n",
       "<table border=\"1\" class=\"dataframe\">\n",
       "  <thead>\n",
       "    <tr style=\"text-align: right;\">\n",
       "      <th></th>\n",
       "      <th>columns</th>\n",
       "    </tr>\n",
       "  </thead>\n",
       "  <tbody>\n",
       "    <tr>\n",
       "      <th>0</th>\n",
       "      <td>Pregnancies</td>\n",
       "    </tr>\n",
       "    <tr>\n",
       "      <th>1</th>\n",
       "      <td>Glucose</td>\n",
       "    </tr>\n",
       "    <tr>\n",
       "      <th>2</th>\n",
       "      <td>BloodPressure</td>\n",
       "    </tr>\n",
       "    <tr>\n",
       "      <th>3</th>\n",
       "      <td>SkinThickness</td>\n",
       "    </tr>\n",
       "    <tr>\n",
       "      <th>4</th>\n",
       "      <td>Insulin</td>\n",
       "    </tr>\n",
       "    <tr>\n",
       "      <th>5</th>\n",
       "      <td>BMI</td>\n",
       "    </tr>\n",
       "    <tr>\n",
       "      <th>6</th>\n",
       "      <td>DiabetesPedigreeFunction</td>\n",
       "    </tr>\n",
       "    <tr>\n",
       "      <th>7</th>\n",
       "      <td>Age</td>\n",
       "    </tr>\n",
       "    <tr>\n",
       "      <th>8</th>\n",
       "      <td>Outcome</td>\n",
       "    </tr>\n",
       "  </tbody>\n",
       "</table>\n",
       "</div>"
      ],
      "text/plain": [
       "                    columns\n",
       "0               Pregnancies\n",
       "1                   Glucose\n",
       "2             BloodPressure\n",
       "3             SkinThickness\n",
       "4                   Insulin\n",
       "5                       BMI\n",
       "6  DiabetesPedigreeFunction\n",
       "7                       Age\n",
       "8                   Outcome"
      ]
     },
     "execution_count": 10,
     "metadata": {},
     "output_type": "execute_result"
    }
   ],
   "source": [
    "df_with_null"
   ]
  },
  {
   "cell_type": "code",
   "execution_count": 14,
   "id": "a506b9a9",
   "metadata": {},
   "outputs": [],
   "source": [
    "df_with_null['missing values count'] = np.asarray(df.isna().sum())"
   ]
  },
  {
   "cell_type": "code",
   "execution_count": 15,
   "id": "22f8b784",
   "metadata": {},
   "outputs": [
    {
     "data": {
      "text/html": [
       "<div>\n",
       "<style scoped>\n",
       "    .dataframe tbody tr th:only-of-type {\n",
       "        vertical-align: middle;\n",
       "    }\n",
       "\n",
       "    .dataframe tbody tr th {\n",
       "        vertical-align: top;\n",
       "    }\n",
       "\n",
       "    .dataframe thead th {\n",
       "        text-align: right;\n",
       "    }\n",
       "</style>\n",
       "<table border=\"1\" class=\"dataframe\">\n",
       "  <thead>\n",
       "    <tr style=\"text-align: right;\">\n",
       "      <th></th>\n",
       "      <th>columns</th>\n",
       "      <th>missing values count</th>\n",
       "    </tr>\n",
       "  </thead>\n",
       "  <tbody>\n",
       "    <tr>\n",
       "      <th>0</th>\n",
       "      <td>Pregnancies</td>\n",
       "      <td>0</td>\n",
       "    </tr>\n",
       "    <tr>\n",
       "      <th>1</th>\n",
       "      <td>Glucose</td>\n",
       "      <td>0</td>\n",
       "    </tr>\n",
       "    <tr>\n",
       "      <th>2</th>\n",
       "      <td>BloodPressure</td>\n",
       "      <td>0</td>\n",
       "    </tr>\n",
       "    <tr>\n",
       "      <th>3</th>\n",
       "      <td>SkinThickness</td>\n",
       "      <td>0</td>\n",
       "    </tr>\n",
       "    <tr>\n",
       "      <th>4</th>\n",
       "      <td>Insulin</td>\n",
       "      <td>0</td>\n",
       "    </tr>\n",
       "    <tr>\n",
       "      <th>5</th>\n",
       "      <td>BMI</td>\n",
       "      <td>0</td>\n",
       "    </tr>\n",
       "    <tr>\n",
       "      <th>6</th>\n",
       "      <td>DiabetesPedigreeFunction</td>\n",
       "      <td>0</td>\n",
       "    </tr>\n",
       "    <tr>\n",
       "      <th>7</th>\n",
       "      <td>Age</td>\n",
       "      <td>0</td>\n",
       "    </tr>\n",
       "    <tr>\n",
       "      <th>8</th>\n",
       "      <td>Outcome</td>\n",
       "      <td>0</td>\n",
       "    </tr>\n",
       "  </tbody>\n",
       "</table>\n",
       "</div>"
      ],
      "text/plain": [
       "                    columns  missing values count\n",
       "0               Pregnancies                     0\n",
       "1                   Glucose                     0\n",
       "2             BloodPressure                     0\n",
       "3             SkinThickness                     0\n",
       "4                   Insulin                     0\n",
       "5                       BMI                     0\n",
       "6  DiabetesPedigreeFunction                     0\n",
       "7                       Age                     0\n",
       "8                   Outcome                     0"
      ]
     },
     "execution_count": 15,
     "metadata": {},
     "output_type": "execute_result"
    }
   ],
   "source": [
    "df_with_null"
   ]
  },
  {
   "cell_type": "code",
   "execution_count": 16,
   "id": "db4094de",
   "metadata": {},
   "outputs": [
    {
     "data": {
      "text/plain": [
       "Pregnancies                 0\n",
       "Glucose                     0\n",
       "BloodPressure               0\n",
       "SkinThickness               0\n",
       "Insulin                     0\n",
       "BMI                         0\n",
       "DiabetesPedigreeFunction    0\n",
       "Age                         0\n",
       "Outcome                     0\n",
       "dtype: int64"
      ]
     },
     "execution_count": 16,
     "metadata": {},
     "output_type": "execute_result"
    }
   ],
   "source": [
    "null_counts"
   ]
  },
  {
   "cell_type": "code",
   "execution_count": 26,
   "id": "6eed7781",
   "metadata": {},
   "outputs": [],
   "source": [
    "dfnew = null_counts.to_frame(name=\"Null counts\")"
   ]
  },
  {
   "cell_type": "code",
   "execution_count": 27,
   "id": "2f049207",
   "metadata": {},
   "outputs": [
    {
     "data": {
      "text/html": [
       "<div>\n",
       "<style scoped>\n",
       "    .dataframe tbody tr th:only-of-type {\n",
       "        vertical-align: middle;\n",
       "    }\n",
       "\n",
       "    .dataframe tbody tr th {\n",
       "        vertical-align: top;\n",
       "    }\n",
       "\n",
       "    .dataframe thead th {\n",
       "        text-align: right;\n",
       "    }\n",
       "</style>\n",
       "<table border=\"1\" class=\"dataframe\">\n",
       "  <thead>\n",
       "    <tr style=\"text-align: right;\">\n",
       "      <th></th>\n",
       "      <th>Null counts</th>\n",
       "    </tr>\n",
       "  </thead>\n",
       "  <tbody>\n",
       "    <tr>\n",
       "      <th>Pregnancies</th>\n",
       "      <td>0</td>\n",
       "    </tr>\n",
       "    <tr>\n",
       "      <th>Glucose</th>\n",
       "      <td>0</td>\n",
       "    </tr>\n",
       "    <tr>\n",
       "      <th>BloodPressure</th>\n",
       "      <td>0</td>\n",
       "    </tr>\n",
       "    <tr>\n",
       "      <th>SkinThickness</th>\n",
       "      <td>0</td>\n",
       "    </tr>\n",
       "    <tr>\n",
       "      <th>Insulin</th>\n",
       "      <td>0</td>\n",
       "    </tr>\n",
       "    <tr>\n",
       "      <th>BMI</th>\n",
       "      <td>0</td>\n",
       "    </tr>\n",
       "    <tr>\n",
       "      <th>DiabetesPedigreeFunction</th>\n",
       "      <td>0</td>\n",
       "    </tr>\n",
       "    <tr>\n",
       "      <th>Age</th>\n",
       "      <td>0</td>\n",
       "    </tr>\n",
       "    <tr>\n",
       "      <th>Outcome</th>\n",
       "      <td>0</td>\n",
       "    </tr>\n",
       "  </tbody>\n",
       "</table>\n",
       "</div>"
      ],
      "text/plain": [
       "                          Null counts\n",
       "Pregnancies                         0\n",
       "Glucose                             0\n",
       "BloodPressure                       0\n",
       "SkinThickness                       0\n",
       "Insulin                             0\n",
       "BMI                                 0\n",
       "DiabetesPedigreeFunction            0\n",
       "Age                                 0\n",
       "Outcome                             0"
      ]
     },
     "execution_count": 27,
     "metadata": {},
     "output_type": "execute_result"
    }
   ],
   "source": [
    "dfnew"
   ]
  },
  {
   "cell_type": "code",
   "execution_count": 28,
   "id": "a800c93e",
   "metadata": {},
   "outputs": [
    {
     "data": {
      "text/html": [
       "<div>\n",
       "<style scoped>\n",
       "    .dataframe tbody tr th:only-of-type {\n",
       "        vertical-align: middle;\n",
       "    }\n",
       "\n",
       "    .dataframe tbody tr th {\n",
       "        vertical-align: top;\n",
       "    }\n",
       "\n",
       "    .dataframe thead th {\n",
       "        text-align: right;\n",
       "    }\n",
       "</style>\n",
       "<table border=\"1\" class=\"dataframe\">\n",
       "  <thead>\n",
       "    <tr style=\"text-align: right;\">\n",
       "      <th></th>\n",
       "      <th>A</th>\n",
       "      <th>B</th>\n",
       "      <th>C</th>\n",
       "    </tr>\n",
       "  </thead>\n",
       "  <tbody>\n",
       "    <tr>\n",
       "      <th>0</th>\n",
       "      <td>1.0</td>\n",
       "      <td>NaN</td>\n",
       "      <td>1</td>\n",
       "    </tr>\n",
       "    <tr>\n",
       "      <th>1</th>\n",
       "      <td>2.0</td>\n",
       "      <td>2.0</td>\n",
       "      <td>2</td>\n",
       "    </tr>\n",
       "    <tr>\n",
       "      <th>2</th>\n",
       "      <td>NaN</td>\n",
       "      <td>3.0</td>\n",
       "      <td>3</td>\n",
       "    </tr>\n",
       "    <tr>\n",
       "      <th>3</th>\n",
       "      <td>4.0</td>\n",
       "      <td>NaN</td>\n",
       "      <td>4</td>\n",
       "    </tr>\n",
       "    <tr>\n",
       "      <th>4</th>\n",
       "      <td>5.0</td>\n",
       "      <td>5.0</td>\n",
       "      <td>5</td>\n",
       "    </tr>\n",
       "  </tbody>\n",
       "</table>\n",
       "</div>"
      ],
      "text/plain": [
       "     A    B  C\n",
       "0  1.0  NaN  1\n",
       "1  2.0  2.0  2\n",
       "2  NaN  3.0  3\n",
       "3  4.0  NaN  4\n",
       "4  5.0  5.0  5"
      ]
     },
     "execution_count": 28,
     "metadata": {},
     "output_type": "execute_result"
    }
   ],
   "source": [
    "data = {\n",
    "    'A': [1, 2, np.nan, 4, 5],\n",
    "    'B': [np.nan, 2, 3, np.nan, 5],\n",
    "    'C': [1, 2, 3, 4, 5]\n",
    "}\n",
    "\n",
    "df = pd.DataFrame(data)\n",
    "df"
   ]
  },
  {
   "cell_type": "code",
   "execution_count": 29,
   "id": "cef33bb8",
   "metadata": {},
   "outputs": [],
   "source": [
    "from sklearn.impute import KNNImputer"
   ]
  },
  {
   "cell_type": "code",
   "execution_count": 30,
   "id": "928534e2",
   "metadata": {},
   "outputs": [],
   "source": [
    "knn_imputer = KNNImputer(missing_values=np.nan,)"
   ]
  },
  {
   "cell_type": "code",
   "execution_count": 35,
   "id": "0d0f7473",
   "metadata": {},
   "outputs": [
    {
     "data": {
      "text/html": [
       "<div>\n",
       "<style scoped>\n",
       "    .dataframe tbody tr th:only-of-type {\n",
       "        vertical-align: middle;\n",
       "    }\n",
       "\n",
       "    .dataframe tbody tr th {\n",
       "        vertical-align: top;\n",
       "    }\n",
       "\n",
       "    .dataframe thead th {\n",
       "        text-align: right;\n",
       "    }\n",
       "</style>\n",
       "<table border=\"1\" class=\"dataframe\">\n",
       "  <thead>\n",
       "    <tr style=\"text-align: right;\">\n",
       "      <th></th>\n",
       "      <th>A</th>\n",
       "      <th>B</th>\n",
       "      <th>C</th>\n",
       "    </tr>\n",
       "  </thead>\n",
       "  <tbody>\n",
       "    <tr>\n",
       "      <th>0</th>\n",
       "      <td>1.0</td>\n",
       "      <td>3.333333</td>\n",
       "      <td>1.0</td>\n",
       "    </tr>\n",
       "    <tr>\n",
       "      <th>1</th>\n",
       "      <td>2.0</td>\n",
       "      <td>2.000000</td>\n",
       "      <td>2.0</td>\n",
       "    </tr>\n",
       "    <tr>\n",
       "      <th>2</th>\n",
       "      <td>3.0</td>\n",
       "      <td>3.000000</td>\n",
       "      <td>3.0</td>\n",
       "    </tr>\n",
       "    <tr>\n",
       "      <th>3</th>\n",
       "      <td>4.0</td>\n",
       "      <td>3.333333</td>\n",
       "      <td>4.0</td>\n",
       "    </tr>\n",
       "    <tr>\n",
       "      <th>4</th>\n",
       "      <td>5.0</td>\n",
       "      <td>5.000000</td>\n",
       "      <td>5.0</td>\n",
       "    </tr>\n",
       "  </tbody>\n",
       "</table>\n",
       "</div>"
      ],
      "text/plain": [
       "     A         B    C\n",
       "0  1.0  3.333333  1.0\n",
       "1  2.0  2.000000  2.0\n",
       "2  3.0  3.000000  3.0\n",
       "3  4.0  3.333333  4.0\n",
       "4  5.0  5.000000  5.0"
      ]
     },
     "execution_count": 35,
     "metadata": {},
     "output_type": "execute_result"
    }
   ],
   "source": [
    "df_new = pd.DataFrame(knn_imputer.fit_transform(df), columns=df.columns)\n",
    "df_new"
   ]
  },
  {
   "cell_type": "code",
   "execution_count": null,
   "id": "86824e37",
   "metadata": {},
   "outputs": [],
   "source": []
  },
  {
   "cell_type": "code",
   "execution_count": 52,
   "id": "f35eabab",
   "metadata": {},
   "outputs": [],
   "source": [
    "import pandas as pd\n",
    "\n",
    "class MyClass:\n",
    "    def __init__(self):\n",
    "        # self.df = pd.DataFrame({'A': [1, 2, 3]})\n",
    "        pass\n",
    "\n",
    "    def method1(self):\n",
    "        # Modify self.df in method1\n",
    "        data = {\n",
    "            'A': [1, 2, np.nan, 4, 5],\n",
    "            'B': [np.nan, 2, 3, np.nan, 5],\n",
    "            'C': [1, 2, 3, 4, 5]\n",
    "        }\n",
    "\n",
    "        df = pd.DataFrame(data)\n",
    "        self.df = df\n",
    "\n",
    "    def method2(self):\n",
    "#         data = {\n",
    "#             'A': [10, 11, 12],\n",
    "#             'B': [13, 14, 15],\n",
    "#             'C': [1, 2, 3]\n",
    "#         }\n",
    "\n",
    "#         df = pd.DataFrame(data)\n",
    "#         self.df = df\n",
    "        self.df['A'] = \"new\"\n",
    "        return self.df"
   ]
  },
  {
   "cell_type": "code",
   "execution_count": 53,
   "id": "4dc18df0",
   "metadata": {},
   "outputs": [],
   "source": [
    "obj = MyClass()"
   ]
  },
  {
   "cell_type": "code",
   "execution_count": 54,
   "id": "ff0dbd20",
   "metadata": {},
   "outputs": [
    {
     "ename": "AttributeError",
     "evalue": "'MyClass' object has no attribute 'df'",
     "output_type": "error",
     "traceback": [
      "\u001b[0;31m---------------------------------------------------------------------------\u001b[0m",
      "\u001b[0;31mAttributeError\u001b[0m                            Traceback (most recent call last)",
      "\u001b[0;32m/var/folders/1f/t9n3prg92hsg35p3jtps00c40000gn/T/ipykernel_16538/118592972.py\u001b[0m in \u001b[0;36m<module>\u001b[0;34m\u001b[0m\n\u001b[0;32m----> 1\u001b[0;31m \u001b[0mdf\u001b[0m \u001b[0;34m=\u001b[0m \u001b[0mobj\u001b[0m\u001b[0;34m.\u001b[0m\u001b[0mmethod2\u001b[0m\u001b[0;34m(\u001b[0m\u001b[0;34m)\u001b[0m\u001b[0;34m\u001b[0m\u001b[0;34m\u001b[0m\u001b[0m\n\u001b[0m\u001b[1;32m      2\u001b[0m \u001b[0mdf\u001b[0m\u001b[0;34m.\u001b[0m\u001b[0mhead\u001b[0m\u001b[0;34m(\u001b[0m\u001b[0;34m)\u001b[0m\u001b[0;34m\u001b[0m\u001b[0;34m\u001b[0m\u001b[0m\n",
      "\u001b[0;32m/var/folders/1f/t9n3prg92hsg35p3jtps00c40000gn/T/ipykernel_16538/624374044.py\u001b[0m in \u001b[0;36mmethod2\u001b[0;34m(self)\u001b[0m\n\u001b[1;32m     26\u001b[0m \u001b[0;31m#         df = pd.DataFrame(data)\u001b[0m\u001b[0;34m\u001b[0m\u001b[0;34m\u001b[0m\u001b[0;34m\u001b[0m\u001b[0m\n\u001b[1;32m     27\u001b[0m \u001b[0;31m#         self.df = df\u001b[0m\u001b[0;34m\u001b[0m\u001b[0;34m\u001b[0m\u001b[0;34m\u001b[0m\u001b[0m\n\u001b[0;32m---> 28\u001b[0;31m         \u001b[0mself\u001b[0m\u001b[0;34m.\u001b[0m\u001b[0mdf\u001b[0m\u001b[0;34m[\u001b[0m\u001b[0;34m'A'\u001b[0m\u001b[0;34m]\u001b[0m \u001b[0;34m=\u001b[0m \u001b[0;34m\"new\"\u001b[0m\u001b[0;34m\u001b[0m\u001b[0;34m\u001b[0m\u001b[0m\n\u001b[0m\u001b[1;32m     29\u001b[0m         \u001b[0;32mreturn\u001b[0m \u001b[0mself\u001b[0m\u001b[0;34m.\u001b[0m\u001b[0mdf\u001b[0m\u001b[0;34m\u001b[0m\u001b[0;34m\u001b[0m\u001b[0m\n",
      "\u001b[0;31mAttributeError\u001b[0m: 'MyClass' object has no attribute 'df'"
     ]
    }
   ],
   "source": [
    "df = obj.method2()\n",
    "df.head()"
   ]
  },
  {
   "cell_type": "code",
   "execution_count": 55,
   "id": "34569660",
   "metadata": {},
   "outputs": [
    {
     "data": {
      "text/html": [
       "<div>\n",
       "<style scoped>\n",
       "    .dataframe tbody tr th:only-of-type {\n",
       "        vertical-align: middle;\n",
       "    }\n",
       "\n",
       "    .dataframe tbody tr th {\n",
       "        vertical-align: top;\n",
       "    }\n",
       "\n",
       "    .dataframe thead th {\n",
       "        text-align: right;\n",
       "    }\n",
       "</style>\n",
       "<table border=\"1\" class=\"dataframe\">\n",
       "  <thead>\n",
       "    <tr style=\"text-align: right;\">\n",
       "      <th></th>\n",
       "      <th>A</th>\n",
       "    </tr>\n",
       "  </thead>\n",
       "  <tbody>\n",
       "    <tr>\n",
       "      <th>0</th>\n",
       "      <td>new</td>\n",
       "    </tr>\n",
       "    <tr>\n",
       "      <th>1</th>\n",
       "      <td>new</td>\n",
       "    </tr>\n",
       "    <tr>\n",
       "      <th>2</th>\n",
       "      <td>new</td>\n",
       "    </tr>\n",
       "  </tbody>\n",
       "</table>\n",
       "</div>"
      ],
      "text/plain": [
       "     A\n",
       "0  new\n",
       "1  new\n",
       "2  new"
      ]
     },
     "execution_count": 55,
     "metadata": {},
     "output_type": "execute_result"
    }
   ],
   "source": [
    "df"
   ]
  },
  {
   "cell_type": "code",
   "execution_count": 56,
   "id": "3b881998",
   "metadata": {},
   "outputs": [
    {
     "data": {
      "text/html": [
       "<div>\n",
       "<style scoped>\n",
       "    .dataframe tbody tr th:only-of-type {\n",
       "        vertical-align: middle;\n",
       "    }\n",
       "\n",
       "    .dataframe tbody tr th {\n",
       "        vertical-align: top;\n",
       "    }\n",
       "\n",
       "    .dataframe thead th {\n",
       "        text-align: right;\n",
       "    }\n",
       "</style>\n",
       "<table border=\"1\" class=\"dataframe\">\n",
       "  <thead>\n",
       "    <tr style=\"text-align: right;\">\n",
       "      <th></th>\n",
       "      <th>A</th>\n",
       "      <th>B</th>\n",
       "      <th>C</th>\n",
       "    </tr>\n",
       "  </thead>\n",
       "  <tbody>\n",
       "    <tr>\n",
       "      <th>0</th>\n",
       "      <td>1.0</td>\n",
       "      <td>NaN</td>\n",
       "      <td>1</td>\n",
       "    </tr>\n",
       "    <tr>\n",
       "      <th>1</th>\n",
       "      <td>2.0</td>\n",
       "      <td>2.0</td>\n",
       "      <td>2</td>\n",
       "    </tr>\n",
       "    <tr>\n",
       "      <th>2</th>\n",
       "      <td>NaN</td>\n",
       "      <td>3.0</td>\n",
       "      <td>3</td>\n",
       "    </tr>\n",
       "    <tr>\n",
       "      <th>3</th>\n",
       "      <td>4.0</td>\n",
       "      <td>NaN</td>\n",
       "      <td>4</td>\n",
       "    </tr>\n",
       "    <tr>\n",
       "      <th>4</th>\n",
       "      <td>5.0</td>\n",
       "      <td>5.0</td>\n",
       "      <td>5</td>\n",
       "    </tr>\n",
       "  </tbody>\n",
       "</table>\n",
       "</div>"
      ],
      "text/plain": [
       "     A    B  C\n",
       "0  1.0  NaN  1\n",
       "1  2.0  2.0  2\n",
       "2  NaN  3.0  3\n",
       "3  4.0  NaN  4\n",
       "4  5.0  5.0  5"
      ]
     },
     "execution_count": 56,
     "metadata": {},
     "output_type": "execute_result"
    }
   ],
   "source": [
    "data = {\n",
    "    'A': [1, 2, np.nan, 4, 5],\n",
    "    'B': [np.nan, 2, 3, np.nan, 5],\n",
    "    'C': [1, 2, 3, 4, 5]\n",
    "}\n",
    "\n",
    "df = pd.DataFrame(data)\n",
    "df"
   ]
  },
  {
   "cell_type": "code",
   "execution_count": 60,
   "id": "ce0c3141",
   "metadata": {},
   "outputs": [],
   "source": [
    "df_describe = df.describe()"
   ]
  },
  {
   "cell_type": "code",
   "execution_count": 67,
   "id": "b380626c",
   "metadata": {},
   "outputs": [
    {
     "data": {
      "text/plain": [
       "1.8257418583505538"
      ]
     },
     "execution_count": 67,
     "metadata": {},
     "output_type": "execute_result"
    }
   ],
   "source": [
    "df_describe['A']['std']"
   ]
  },
  {
   "cell_type": "code",
   "execution_count": 68,
   "id": "ad7fc1a8",
   "metadata": {},
   "outputs": [
    {
     "data": {
      "text/html": [
       "<div>\n",
       "<style scoped>\n",
       "    .dataframe tbody tr th:only-of-type {\n",
       "        vertical-align: middle;\n",
       "    }\n",
       "\n",
       "    .dataframe tbody tr th {\n",
       "        vertical-align: top;\n",
       "    }\n",
       "\n",
       "    .dataframe thead th {\n",
       "        text-align: right;\n",
       "    }\n",
       "</style>\n",
       "<table border=\"1\" class=\"dataframe\">\n",
       "  <thead>\n",
       "    <tr style=\"text-align: right;\">\n",
       "      <th></th>\n",
       "      <th>A</th>\n",
       "      <th>B</th>\n",
       "      <th>C</th>\n",
       "    </tr>\n",
       "  </thead>\n",
       "  <tbody>\n",
       "    <tr>\n",
       "      <th>0</th>\n",
       "      <td>1.0</td>\n",
       "      <td>NaN</td>\n",
       "      <td>1</td>\n",
       "    </tr>\n",
       "    <tr>\n",
       "      <th>1</th>\n",
       "      <td>2.0</td>\n",
       "      <td>2.0</td>\n",
       "      <td>2</td>\n",
       "    </tr>\n",
       "    <tr>\n",
       "      <th>2</th>\n",
       "      <td>NaN</td>\n",
       "      <td>3.0</td>\n",
       "      <td>3</td>\n",
       "    </tr>\n",
       "    <tr>\n",
       "      <th>3</th>\n",
       "      <td>4.0</td>\n",
       "      <td>NaN</td>\n",
       "      <td>4</td>\n",
       "    </tr>\n",
       "    <tr>\n",
       "      <th>4</th>\n",
       "      <td>5.0</td>\n",
       "      <td>5.0</td>\n",
       "      <td>5</td>\n",
       "    </tr>\n",
       "  </tbody>\n",
       "</table>\n",
       "</div>"
      ],
      "text/plain": [
       "     A    B  C\n",
       "0  1.0  NaN  1\n",
       "1  2.0  2.0  2\n",
       "2  NaN  3.0  3\n",
       "3  4.0  NaN  4\n",
       "4  5.0  5.0  5"
      ]
     },
     "execution_count": 68,
     "metadata": {},
     "output_type": "execute_result"
    }
   ],
   "source": [
    "df"
   ]
  },
  {
   "cell_type": "code",
   "execution_count": 69,
   "id": "c640a9c5",
   "metadata": {},
   "outputs": [
    {
     "data": {
      "text/html": [
       "<div>\n",
       "<style scoped>\n",
       "    .dataframe tbody tr th:only-of-type {\n",
       "        vertical-align: middle;\n",
       "    }\n",
       "\n",
       "    .dataframe tbody tr th {\n",
       "        vertical-align: top;\n",
       "    }\n",
       "\n",
       "    .dataframe thead th {\n",
       "        text-align: right;\n",
       "    }\n",
       "</style>\n",
       "<table border=\"1\" class=\"dataframe\">\n",
       "  <thead>\n",
       "    <tr style=\"text-align: right;\">\n",
       "      <th></th>\n",
       "      <th>Pregnancies</th>\n",
       "      <th>Glucose</th>\n",
       "      <th>BloodPressure</th>\n",
       "      <th>SkinThickness</th>\n",
       "      <th>Insulin</th>\n",
       "      <th>BMI</th>\n",
       "      <th>DiabetesPedigreeFunction</th>\n",
       "      <th>Age</th>\n",
       "      <th>Outcome</th>\n",
       "    </tr>\n",
       "  </thead>\n",
       "  <tbody>\n",
       "    <tr>\n",
       "      <th>0</th>\n",
       "      <td>6</td>\n",
       "      <td>148</td>\n",
       "      <td>72</td>\n",
       "      <td>35</td>\n",
       "      <td>0</td>\n",
       "      <td>33.6</td>\n",
       "      <td>0.627</td>\n",
       "      <td>50</td>\n",
       "      <td>1</td>\n",
       "    </tr>\n",
       "    <tr>\n",
       "      <th>1</th>\n",
       "      <td>1</td>\n",
       "      <td>85</td>\n",
       "      <td>66</td>\n",
       "      <td>29</td>\n",
       "      <td>0</td>\n",
       "      <td>26.6</td>\n",
       "      <td>0.351</td>\n",
       "      <td>31</td>\n",
       "      <td>0</td>\n",
       "    </tr>\n",
       "    <tr>\n",
       "      <th>2</th>\n",
       "      <td>8</td>\n",
       "      <td>183</td>\n",
       "      <td>64</td>\n",
       "      <td>0</td>\n",
       "      <td>0</td>\n",
       "      <td>23.3</td>\n",
       "      <td>0.672</td>\n",
       "      <td>32</td>\n",
       "      <td>1</td>\n",
       "    </tr>\n",
       "    <tr>\n",
       "      <th>3</th>\n",
       "      <td>1</td>\n",
       "      <td>89</td>\n",
       "      <td>66</td>\n",
       "      <td>23</td>\n",
       "      <td>94</td>\n",
       "      <td>28.1</td>\n",
       "      <td>0.167</td>\n",
       "      <td>21</td>\n",
       "      <td>0</td>\n",
       "    </tr>\n",
       "    <tr>\n",
       "      <th>4</th>\n",
       "      <td>0</td>\n",
       "      <td>137</td>\n",
       "      <td>40</td>\n",
       "      <td>35</td>\n",
       "      <td>168</td>\n",
       "      <td>43.1</td>\n",
       "      <td>2.288</td>\n",
       "      <td>33</td>\n",
       "      <td>1</td>\n",
       "    </tr>\n",
       "  </tbody>\n",
       "</table>\n",
       "</div>"
      ],
      "text/plain": [
       "   Pregnancies  Glucose  BloodPressure  SkinThickness  Insulin   BMI  \\\n",
       "0            6      148             72             35        0  33.6   \n",
       "1            1       85             66             29        0  26.6   \n",
       "2            8      183             64              0        0  23.3   \n",
       "3            1       89             66             23       94  28.1   \n",
       "4            0      137             40             35      168  43.1   \n",
       "\n",
       "   DiabetesPedigreeFunction  Age  Outcome  \n",
       "0                     0.627   50        1  \n",
       "1                     0.351   31        0  \n",
       "2                     0.672   32        1  \n",
       "3                     0.167   21        0  \n",
       "4                     2.288   33        1  "
      ]
     },
     "execution_count": 69,
     "metadata": {},
     "output_type": "execute_result"
    }
   ],
   "source": [
    "path = \"\"\"/Users/admin/Documents/Projects/wafer_fault_detection_1/code/diabetes.csv\"\"\"\n",
    "df = pd.read_csv(path)\n",
    "df.head()"
   ]
  },
  {
   "cell_type": "code",
   "execution_count": 70,
   "id": "a98b5e44",
   "metadata": {},
   "outputs": [],
   "source": [
    "from sklearn.cluster import KMeans"
   ]
  },
  {
   "cell_type": "code",
   "execution_count": 74,
   "id": "ba594d48",
   "metadata": {},
   "outputs": [],
   "source": [
    "no_of_clusters = 5\n",
    "\n",
    "kmeans = KMeans(n_clusters=no_of_clusters,\n",
    "               init=\"k-means++\",\n",
    "               random_state=42)"
   ]
  },
  {
   "cell_type": "code",
   "execution_count": 75,
   "id": "53fda4ab",
   "metadata": {},
   "outputs": [
    {
     "data": {
      "text/plain": [
       "array([0, 0, 0, 4, 2, 0, 4, 0, 3, 0, 0, 0, 0, 3, 2, 0, 2, 0, 4, 4, 2, 0,\n",
       "       0, 0, 2, 4, 0, 2, 4, 0, 0, 1, 4, 0, 0, 2, 0, 0, 0, 2, 4, 0, 0, 1,\n",
       "       0, 0, 0, 0, 0, 0, 4, 0, 0, 1, 1, 0, 1, 4, 0, 2, 0, 0, 0, 2, 0, 0,\n",
       "       0, 0, 4, 4, 4, 2, 0, 1, 0, 0, 0, 0, 0, 0, 0, 0, 4, 0, 0, 4, 0, 4,\n",
       "       4, 0, 0, 2, 4, 0, 4, 2, 0, 4, 4, 2, 0, 0, 0, 4, 0, 2, 0, 2, 0, 4,\n",
       "       2, 3, 4, 0, 2, 0, 0, 0, 0, 4, 4, 0, 4, 0, 0, 4, 2, 4, 2, 0, 2, 0,\n",
       "       2, 0, 4, 2, 4, 4, 0, 1, 0, 0, 4, 0, 1, 0, 0, 4, 0, 0, 2, 0, 2, 3,\n",
       "       0, 0, 4, 2, 4, 2, 0, 4, 1, 0, 0, 2, 0, 0, 0, 4, 0, 2, 0, 4, 4, 2,\n",
       "       0, 2, 0, 0, 0, 4, 4, 0, 0, 0, 3, 4, 4, 2, 0, 4, 0, 0, 0, 2, 0, 4,\n",
       "       4, 1, 0, 0, 0, 4, 2, 0, 1, 0, 4, 0, 0, 0, 0, 2, 2, 1, 2, 4, 0, 0,\n",
       "       3, 0, 0, 2, 4, 0, 0, 0, 3, 4, 0, 1, 4, 0, 4, 0, 2, 0, 0, 0, 0, 4,\n",
       "       0, 2, 2, 0, 0, 3, 1, 0, 0, 0, 4, 0, 1, 0, 0, 0, 1, 2, 2, 0, 0, 0,\n",
       "       0, 4, 0, 0, 0, 0, 0, 4, 0, 4, 0, 4, 0, 4, 0, 1, 0, 2, 2, 0, 0, 2,\n",
       "       3, 2, 4, 4, 4, 4, 2, 2, 0, 2, 1, 2, 2, 0, 0, 2, 4, 0, 0, 4, 2, 2,\n",
       "       2, 2, 0, 2, 4, 4, 0, 4, 4, 0, 2, 0, 2, 0, 0, 0, 0, 2, 2, 0, 4, 4,\n",
       "       0, 4, 0, 0, 4, 1, 0, 0, 2, 0, 4, 4, 0, 0, 0, 4, 4, 0, 4, 0, 0, 0,\n",
       "       0, 4, 0, 0, 2, 0, 4, 1, 1, 0, 0, 0, 1, 4, 0, 0, 4, 2, 3, 4, 4, 4,\n",
       "       2, 1, 4, 4, 0, 4, 4, 0, 2, 4, 4, 4, 0, 0, 1, 4, 2, 0, 1, 4, 0, 1,\n",
       "       4, 0, 0, 0, 0, 0, 4, 0, 0, 2, 0, 0, 0, 3, 0, 2, 1, 4, 2, 3, 0, 0,\n",
       "       0, 4, 2, 4, 4, 0, 2, 1, 0, 2, 2, 2, 0, 4, 4, 0, 0, 0, 0, 0, 0, 0,\n",
       "       0, 4, 4, 0, 0, 0, 4, 4, 4, 4, 4, 0, 2, 0, 4, 0, 0, 4, 2, 4, 4, 0,\n",
       "       4, 0, 0, 4, 4, 4, 0, 2, 0, 0, 0, 0, 0, 0, 2, 4, 4, 0, 1, 0, 4, 4,\n",
       "       0, 1, 3, 1, 0, 0, 4, 0, 0, 4, 0, 0, 0, 4, 2, 2, 4, 0, 0, 4, 0, 0,\n",
       "       4, 2, 4, 0, 0, 2, 0, 0, 4, 4, 2, 0, 0, 1, 4, 2, 0, 0, 0, 0, 4, 4,\n",
       "       2, 0, 4, 0, 4, 0, 4, 0, 0, 0, 2, 2, 2, 2, 0, 4, 4, 2, 2, 2, 4, 0,\n",
       "       0, 4, 0, 4, 4, 2, 0, 0, 0, 0, 0, 1, 4, 4, 0, 4, 0, 4, 2, 2, 0, 0,\n",
       "       4, 4, 1, 4, 4, 0, 0, 0, 0, 0, 0, 0, 3, 0, 0, 0, 2, 0, 0, 2, 0, 4,\n",
       "       2, 2, 0, 0, 0, 4, 0, 0, 0, 2, 0, 0, 1, 4, 1, 2, 2, 2, 1, 0, 2, 0,\n",
       "       0, 0, 0, 0, 2, 0, 0, 4, 0, 4, 0, 0, 0, 0, 0, 4, 0, 2, 0, 0, 0, 4,\n",
       "       4, 4, 4, 0, 0, 0, 2, 3, 2, 2, 2, 0, 4, 4, 4, 0, 2, 3, 4, 2, 0, 4,\n",
       "       0, 0, 2, 2, 0, 2, 0, 0, 2, 4, 2, 0, 4, 2, 0, 0, 0, 0, 0, 1, 4, 0,\n",
       "       4, 0, 0, 2, 0, 0, 2, 2, 0, 0, 4, 2, 0, 3, 2, 0, 2, 0, 2, 0, 0, 0,\n",
       "       4, 0, 0, 1, 0, 2, 1, 0, 0, 1, 0, 1, 2, 0, 2, 0, 0, 2, 2, 4, 0, 0,\n",
       "       2, 0, 0, 0, 4, 0, 2, 2, 0, 0, 4, 0, 2, 0, 2, 4, 4, 0, 2, 4, 0, 4,\n",
       "       2, 0, 0, 4, 0, 3, 0, 4, 0, 0, 0, 0, 0, 0, 0, 2, 0, 4, 0, 0],\n",
       "      dtype=int32)"
      ]
     },
     "execution_count": 75,
     "metadata": {},
     "output_type": "execute_result"
    }
   ],
   "source": [
    "kmeans.fit_predict(df)"
   ]
  },
  {
   "cell_type": "code",
   "execution_count": null,
   "id": "7819a622",
   "metadata": {},
   "outputs": [],
   "source": []
  },
  {
   "cell_type": "code",
   "execution_count": 7,
   "id": "36592d04",
   "metadata": {},
   "outputs": [],
   "source": [
    "import sqlite3\n",
    "import os"
   ]
  },
  {
   "cell_type": "code",
   "execution_count": 2,
   "id": "9ab87271",
   "metadata": {},
   "outputs": [],
   "source": [
    "path = '/Users/admin/Documents/Projects/wafer_fault_detection_1/code/Training_Database/'\n",
    "good_file_path = '/Users/admin/Documents/Projects/wafer_fault_detection_1/code/Training_Raw_Files_Validated/Good_Raw'\n",
    "bad_file_path = '/Users/admin/Documents/Projects/wafer_fault_detection_1/code/Training_Raw_Files_Validated/Bad_Raw'"
   ]
  },
  {
   "cell_type": "code",
   "execution_count": 3,
   "id": "93b525d2",
   "metadata": {},
   "outputs": [],
   "source": [
    "db_name = \"mydb\""
   ]
  },
  {
   "cell_type": "code",
   "execution_count": 4,
   "id": "9a60e009",
   "metadata": {},
   "outputs": [
    {
     "data": {
      "text/plain": [
       "'/Users/admin/Documents/Projects/wafer_fault_detection_1/code/Training_Database/mydb.db'"
      ]
     },
     "execution_count": 4,
     "metadata": {},
     "output_type": "execute_result"
    }
   ],
   "source": [
    "path + db_name + '.db'"
   ]
  },
  {
   "cell_type": "code",
   "execution_count": 12,
   "id": "3f56cfb1",
   "metadata": {},
   "outputs": [],
   "source": [
    "conn = sqlite3.connect(path + db_name + '.db')"
   ]
  },
  {
   "cell_type": "code",
   "execution_count": 13,
   "id": "d9e2de9b",
   "metadata": {},
   "outputs": [
    {
     "data": {
      "text/plain": [
       "<sqlite3.Connection at 0x10f5189d0>"
      ]
     },
     "execution_count": 13,
     "metadata": {},
     "output_type": "execute_result"
    }
   ],
   "source": [
    "conn"
   ]
  },
  {
   "cell_type": "code",
   "execution_count": 14,
   "id": "56eb6281",
   "metadata": {},
   "outputs": [
    {
     "data": {
      "text/plain": [
       "['data.csv']"
      ]
     },
     "execution_count": 14,
     "metadata": {},
     "output_type": "execute_result"
    }
   ],
   "source": [
    "onlyfiles = [file for file in os.listdir(good_file_path)]\n",
    "onlyfiles"
   ]
  },
  {
   "cell_type": "code",
   "execution_count": 15,
   "id": "b3e48405",
   "metadata": {},
   "outputs": [],
   "source": [
    "import csv"
   ]
  },
  {
   "cell_type": "code",
   "execution_count": 20,
   "id": "adc89b30",
   "metadata": {},
   "outputs": [
    {
     "data": {
      "text/plain": [
       "[]"
      ]
     },
     "execution_count": 20,
     "metadata": {},
     "output_type": "execute_result"
    }
   ],
   "source": [
    "my_cursor = conn.cursor()\n",
    "command = \"\"\"SELECT name FROM sqlite_master WHERE type='table' AND name='Good_Raw_Data'\"\"\"\n",
    "my_cursor.execute(command)\n",
    "my_cursor.fetchall()"
   ]
  },
  {
   "cell_type": "code",
   "execution_count": 22,
   "id": "b7a32804",
   "metadata": {},
   "outputs": [],
   "source": [
    "column_names = {\n",
    "    'col1': \"int(20)\",\n",
    "    \"col2\": \"varchar(25)\",\n",
    "    \"col3\": \"float(20)\",\n",
    "    \"col10\": \"int(25)\",\n",
    "    \"col20\": \"varchar(30)\",\n",
    "    \"col30\": \"float(30)\"\n",
    "}"
   ]
  },
  {
   "cell_type": "code",
   "execution_count": 24,
   "id": "cd440972",
   "metadata": {},
   "outputs": [],
   "source": [
    "for key in column_names.keys():\n",
    "    col_type = column_names[key]\n",
    "    try:\n",
    "        # if the table already exists, then add the column\n",
    "        conn.execute('ALTER TABLE Good_Raw_Data ADD COLUMN \"{column_name}\" {data_type}'.format(column_name=key, data_type=col_type))\n",
    "    except:\n",
    "        # the table doesn't exists. So create table\n",
    "        conn.execute('CREATE TABLE Good_Raw_Data ({column_name} {data_type})'.format(column_name=key, data_type=col_type))"
   ]
  },
  {
   "cell_type": "code",
   "execution_count": 25,
   "id": "e55302df",
   "metadata": {},
   "outputs": [
    {
     "data": {
      "text/plain": [
       "[('Good_Raw_Data',)]"
      ]
     },
     "execution_count": 25,
     "metadata": {},
     "output_type": "execute_result"
    }
   ],
   "source": [
    "my_cursor = conn.cursor()\n",
    "command = \"\"\"SELECT name FROM sqlite_master WHERE type='table' AND name='Good_Raw_Data'\"\"\"\n",
    "my_cursor.execute(command)\n",
    "my_cursor.fetchall()"
   ]
  },
  {
   "cell_type": "code",
   "execution_count": 114,
   "id": "095c6579",
   "metadata": {},
   "outputs": [],
   "source": [
    "my_cursor.close()"
   ]
  },
  {
   "cell_type": "code",
   "execution_count": null,
   "id": "ecb4120a",
   "metadata": {},
   "outputs": [],
   "source": []
  },
  {
   "cell_type": "code",
   "execution_count": 43,
   "id": "a192c506",
   "metadata": {},
   "outputs": [
    {
     "name": "stdout",
     "output_type": "stream",
     "text": [
      "no such column: hi\n",
      "no such column: ji\n"
     ]
    }
   ],
   "source": [
    "for file in onlyfiles:\n",
    "    try:\n",
    "        complete_path = os.path.join(good_file_path, file)\n",
    "        with open(complete_path, \"r\") as f:\n",
    "            next(f)\n",
    "            reader = csv.reader(f, delimiter='\\n')\n",
    "            for line in enumerate(reader):\n",
    "                try:\n",
    "                    command = 'INSERT INTO Good_Raw_Data values ({values})'.format(values=(line[1][0]))\n",
    "                    conn.execute(command)\n",
    "                    print(\"success\")\n",
    "                except Exception as e:\n",
    "                    print(e)\n",
    "    except Exception as e:\n",
    "        pass\n"
   ]
  },
  {
   "cell_type": "code",
   "execution_count": 46,
   "id": "59d22ca2",
   "metadata": {},
   "outputs": [
    {
     "data": {
      "text/plain": [
       "['col1', 'col2', 'col3', 'col10', 'col20', 'col30']"
      ]
     },
     "execution_count": 46,
     "metadata": {},
     "output_type": "execute_result"
    }
   ],
   "source": [
    "my_cursor.execute(\"PRAGMA table_info(Good_Raw_Data)\")\n",
    "columns = [column[1] for column in my_cursor.fetchall()]\n",
    "columns"
   ]
  },
  {
   "cell_type": "code",
   "execution_count": 49,
   "id": "9215d9de",
   "metadata": {},
   "outputs": [
    {
     "data": {
      "text/plain": [
       "'?, ?, ?, ?, ?, ?'"
      ]
     },
     "execution_count": 49,
     "metadata": {},
     "output_type": "execute_result"
    }
   ],
   "source": [
    "', '.join(['?']*len(columns))"
   ]
  },
  {
   "cell_type": "code",
   "execution_count": 48,
   "id": "1942c303",
   "metadata": {},
   "outputs": [],
   "source": [
    "insert_query = f\"INSERT INTO Good_Raw_Data ({', '.join(columns)}) VALUES ({', '.join(['?']*len(columns))})\"\n"
   ]
  },
  {
   "cell_type": "code",
   "execution_count": 55,
   "id": "0b3a6657",
   "metadata": {},
   "outputs": [
    {
     "name": "stdout",
     "output_type": "stream",
     "text": [
      "success\n",
      "success\n"
     ]
    }
   ],
   "source": [
    "for file in onlyfiles:\n",
    "    try:\n",
    "        complete_path = os.path.join(good_file_path, file)\n",
    "        with open(complete_path, \"r\") as f:\n",
    "            next(f)\n",
    "            reader = csv.reader(f, delimiter='\\n')\n",
    "            for line in enumerate(reader):\n",
    "                try:\n",
    "                    list_ = line[1][0].split(',')\n",
    "                    insert_query = f\"INSERT INTO Good_Raw_Data ({', '.join(columns)}) VALUES ({', '.join(['?']*len(columns))})\"\n",
    "                    conn.execute(insert_query, list_)\n",
    "                    print(\"success\")\n",
    "                except Exception as e:\n",
    "                    print(e)\n",
    "    except Exception as e:\n",
    "        pass\n"
   ]
  },
  {
   "cell_type": "code",
   "execution_count": 56,
   "id": "230a659e",
   "metadata": {},
   "outputs": [
    {
     "data": {
      "text/plain": [
       "(('cid', None, None, None, None, None, None),\n",
       " ('name', None, None, None, None, None, None),\n",
       " ('type', None, None, None, None, None, None),\n",
       " ('notnull', None, None, None, None, None, None),\n",
       " ('dflt_value', None, None, None, None, None, None),\n",
       " ('pk', None, None, None, None, None, None))"
      ]
     },
     "execution_count": 56,
     "metadata": {},
     "output_type": "execute_result"
    }
   ],
   "source": [
    "my_cursor.description"
   ]
  },
  {
   "cell_type": "code",
   "execution_count": null,
   "id": "60e4a36e",
   "metadata": {},
   "outputs": [],
   "source": []
  },
  {
   "cell_type": "code",
   "execution_count": 57,
   "id": "b786cd08",
   "metadata": {},
   "outputs": [
    {
     "data": {
      "image/png": "[encoded data removed]",
      "text/plain": [
       "<Figure size 800x400 with 1 Axes>"
      ]
     },
     "metadata": {},
     "output_type": "display_data"
    }
   ],
   "source": [
    "import numpy as np\n",
    "import matplotlib.pyplot as plt\n",
    "\n",
    "# Define the sigmoid function and its derivative\n",
    "def sigmoid(x):\n",
    "    return 1 / (1 + np.exp(-x))\n",
    "\n",
    "def sigmoid_derivative(x):\n",
    "    return sigmoid(x) * (1 - sigmoid(x))\n",
    "\n",
    "# Generate a range of x values\n",
    "x = np.linspace(-6, 6, 400)\n",
    "\n",
    "# Calculate the derivative of the sigmoid function for each x value\n",
    "derivative = sigmoid_derivative(x)\n",
    "\n",
    "# Create a plot\n",
    "plt.figure(figsize=(8, 4))\n",
    "plt.plot(x, derivative, label=\"Sigmoid Derivative\")\n",
    "plt.xlabel(\"x\")\n",
    "plt.ylabel(\"Derivative Value\")\n",
    "plt.title(\"Distribution of Sigmoid Derivative\")\n",
    "plt.axhline(0, color='black', linestyle='--', linewidth=0.5)\n",
    "plt.axvline(0, color='black', linestyle='--', linewidth=0.5)\n",
    "plt.grid(True, linestyle='--', alpha=0.7)\n",
    "plt.legend()\n",
    "plt.show()\n"
   ]
  },
  {
   "cell_type": "code",
   "execution_count": 58,
   "id": "265dd271",
   "metadata": {},
   "outputs": [
    {
     "data": {
      "image/png": "[encoded data removed]",
      "text/plain": [
       "<Figure size 800x400 with 1 Axes>"
      ]
     },
     "metadata": {},
     "output_type": "display_data"
    }
   ],
   "source": [
    "import numpy as np\n",
    "import matplotlib.pyplot as plt\n",
    "\n",
    "# Define the tanh function and its derivative\n",
    "def tanh(x):\n",
    "    return np.tanh(x)\n",
    "\n",
    "def tanh_derivative(x):\n",
    "    return 1 - np.tanh(x) ** 2\n",
    "\n",
    "# Generate a range of x values\n",
    "x = np.linspace(-5, 5, 400)\n",
    "\n",
    "# Calculate the derivative of the tanh function for each x value\n",
    "derivative = tanh_derivative(x)\n",
    "\n",
    "# Create a plot\n",
    "plt.figure(figsize=(8, 4))\n",
    "plt.plot(x, derivative, label=\"tanh Derivative\")\n",
    "plt.xlabel(\"x\")\n",
    "plt.ylabel(\"Derivative Value\")\n",
    "plt.title(\"Distribution of tanh Derivative\")\n",
    "plt.axhline(0, color='black', linestyle='--', linewidth=0.5)\n",
    "plt.axvline(0, color='black', linestyle='--', linewidth=0.5)\n",
    "plt.grid(True, linestyle='--', alpha=0.7)\n",
    "plt.legend()\n",
    "plt.show()\n"
   ]
  },
  {
   "cell_type": "code",
   "execution_count": 59,
   "id": "3cd8888b",
   "metadata": {},
   "outputs": [
    {
     "data": {
      "image/png": "[encoded data removed]",
      "text/plain": [
       "<Figure size 800x400 with 1 Axes>"
      ]
     },
     "metadata": {},
     "output_type": "display_data"
    }
   ],
   "source": [
    "import numpy as np\n",
    "import matplotlib.pyplot as plt\n",
    "\n",
    "# Define the ReLU function and its derivative\n",
    "def relu(x):\n",
    "    return np.maximum(0, x)\n",
    "\n",
    "def relu_derivative(x):\n",
    "    return np.where(x > 0, 1, 0)\n",
    "\n",
    "# Generate a range of x values\n",
    "x = np.linspace(-5, 5, 400)\n",
    "\n",
    "# Calculate the derivative of the ReLU function for each x value\n",
    "derivative = relu_derivative(x)\n",
    "\n",
    "# Create a plot\n",
    "plt.figure(figsize=(8, 4))\n",
    "plt.plot(x, derivative, label=\"ReLU Derivative\")\n",
    "plt.xlabel(\"x\")\n",
    "plt.ylabel(\"Derivative Value\")\n",
    "plt.title(\"Distribution of ReLU Derivative\")\n",
    "plt.axhline(0, color='black', linestyle='--', linewidth=0.5)\n",
    "plt.axvline(0, color='black', linestyle='--', linewidth=0.5)\n",
    "plt.grid(True, linestyle='--', alpha=0.7)\n",
    "plt.legend()\n",
    "plt.show()\n"
   ]
  },
  {
   "cell_type": "code",
   "execution_count": null,
   "id": "cf95dd4e",
   "metadata": {},
   "outputs": [],
   "source": []
  },
  {
   "cell_type": "code",
   "execution_count": 60,
   "id": "c2e30a5f",
   "metadata": {},
   "outputs": [],
   "source": [
    "from sklearn.preprocessing import MinMaxScaler, StandardScaler"
   ]
  },
  {
   "cell_type": "code",
   "execution_count": 61,
   "id": "4aad4715",
   "metadata": {},
   "outputs": [],
   "source": [
    "std_scaler = StandardScaler()"
   ]
  },
  {
   "cell_type": "code",
   "execution_count": 62,
   "id": "f1e3f08b",
   "metadata": {},
   "outputs": [],
   "source": [
    "min_max_scaler = MinMaxScaler()"
   ]
  },
  {
   "cell_type": "code",
   "execution_count": 69,
   "id": "d249e184",
   "metadata": {},
   "outputs": [
    {
     "data": {
      "text/plain": [
       "(50, 1)"
      ]
     },
     "execution_count": 69,
     "metadata": {},
     "output_type": "execute_result"
    }
   ],
   "source": [
    "X = np.linspace(1, 100, num=50)\n",
    "X = np.reshape(X, (X.shape[0], 1))\n",
    "X.shape"
   ]
  },
  {
   "cell_type": "code",
   "execution_count": 70,
   "id": "3dbded41",
   "metadata": {},
   "outputs": [],
   "source": [
    "X_std_scaled = std_scaler.fit_transform(X)"
   ]
  },
  {
   "cell_type": "code",
   "execution_count": 73,
   "id": "e5e36744",
   "metadata": {},
   "outputs": [
    {
     "data": {
      "text/plain": [
       "7.549516567451065e-17"
      ]
     },
     "execution_count": 73,
     "metadata": {},
     "output_type": "execute_result"
    }
   ],
   "source": [
    "np.mean(X_std_scaled)"
   ]
  },
  {
   "cell_type": "code",
   "execution_count": 74,
   "id": "b05d9775",
   "metadata": {},
   "outputs": [
    {
     "data": {
      "text/plain": [
       "0.9999999999999999"
      ]
     },
     "execution_count": 74,
     "metadata": {},
     "output_type": "execute_result"
    }
   ],
   "source": [
    "np.std(X_std_scaled)"
   ]
  },
  {
   "cell_type": "code",
   "execution_count": 75,
   "id": "7512ddc0",
   "metadata": {},
   "outputs": [],
   "source": [
    "X_min_max_scaled = min_max_scaler.fit_transform(X)"
   ]
  },
  {
   "cell_type": "code",
   "execution_count": 77,
   "id": "5a8072d9",
   "metadata": {},
   "outputs": [
    {
     "data": {
      "text/plain": [
       "0.5000000000000001"
      ]
     },
     "execution_count": 77,
     "metadata": {},
     "output_type": "execute_result"
    }
   ],
   "source": [
    "np.mean(X_min_max_scaled)"
   ]
  },
  {
   "cell_type": "code",
   "execution_count": 78,
   "id": "0fe4c824",
   "metadata": {},
   "outputs": [
    {
     "data": {
      "text/plain": [
       "0.29450754468697576"
      ]
     },
     "execution_count": 78,
     "metadata": {},
     "output_type": "execute_result"
    }
   ],
   "source": [
    "np.std(X_min_max_scaled)"
   ]
  },
  {
   "cell_type": "code",
   "execution_count": 79,
   "id": "71606601",
   "metadata": {},
   "outputs": [],
   "source": [
    "new_min_max_scaler = MinMaxScaler(feature_range=(10, 20))"
   ]
  },
  {
   "cell_type": "code",
   "execution_count": 80,
   "id": "d89c4db9",
   "metadata": {},
   "outputs": [],
   "source": [
    "X_new_min_max_scaled = new_min_max_scaler.fit_transform(X)"
   ]
  },
  {
   "cell_type": "code",
   "execution_count": 81,
   "id": "0e362655",
   "metadata": {},
   "outputs": [
    {
     "data": {
      "text/plain": [
       "15.0"
      ]
     },
     "execution_count": 81,
     "metadata": {},
     "output_type": "execute_result"
    }
   ],
   "source": [
    "np.mean(X_new_min_max_scaled)"
   ]
  },
  {
   "cell_type": "code",
   "execution_count": 82,
   "id": "472fc54a",
   "metadata": {},
   "outputs": [
    {
     "data": {
      "text/plain": [
       "2.9450754468697573"
      ]
     },
     "execution_count": 82,
     "metadata": {},
     "output_type": "execute_result"
    }
   ],
   "source": [
    "np.std(X_new_min_max_scaled)"
   ]
  },
  {
   "cell_type": "code",
   "execution_count": null,
   "id": "86d6993c",
   "metadata": {},
   "outputs": [],
   "source": []
  },
  {
   "cell_type": "code",
   "execution_count": 5,
   "id": "40e5d236",
   "metadata": {},
   "outputs": [],
   "source": [
    "import os\n",
    "import pandas as pd"
   ]
  },
  {
   "cell_type": "code",
   "execution_count": 2,
   "id": "6555e292",
   "metadata": {},
   "outputs": [
    {
     "data": {
      "text/plain": [
       "'/Users/admin/Documents/Projects/wafer_fault_detection_1/notebooks'"
      ]
     },
     "execution_count": 2,
     "metadata": {},
     "output_type": "execute_result"
    }
   ],
   "source": [
    "os.getcwd()"
   ]
  },
  {
   "cell_type": "code",
   "execution_count": 3,
   "id": "edd5eee7",
   "metadata": {},
   "outputs": [],
   "source": [
    "path = \"/Users/admin/Documents/Projects/wafer_fault_detection_1/code/Training_Raw_Files_Validated/Good_Raw/\""
   ]
  },
  {
   "cell_type": "code",
   "execution_count": 4,
   "id": "6faadd71",
   "metadata": {},
   "outputs": [
    {
     "data": {
      "text/plain": [
       "['wafer_07012020_041011.csv', 'wafer_13012020_090817.csv']"
      ]
     },
     "execution_count": 4,
     "metadata": {},
     "output_type": "execute_result"
    }
   ],
   "source": [
    "os.listdir(path)"
   ]
  },
  {
   "cell_type": "code",
   "execution_count": 22,
   "id": "d46bb1b5",
   "metadata": {},
   "outputs": [],
   "source": [
    "file_path = os.path.join(path, \"wafer_07012020_041011.csv\")\n",
    "df = pd.read_csv(file_path)"
   ]
  },
  {
   "cell_type": "code",
   "execution_count": 27,
   "id": "f1a570a9",
   "metadata": {},
   "outputs": [
    {
     "data": {
      "text/html": [
       "<div>\n",
       "<style scoped>\n",
       "    .dataframe tbody tr th:only-of-type {\n",
       "        vertical-align: middle;\n",
       "    }\n",
       "\n",
       "    .dataframe tbody tr th {\n",
       "        vertical-align: top;\n",
       "    }\n",
       "\n",
       "    .dataframe thead th {\n",
       "        text-align: right;\n",
       "    }\n",
       "</style>\n",
       "<table border=\"1\" class=\"dataframe\">\n",
       "  <thead>\n",
       "    <tr style=\"text-align: right;\">\n",
       "      <th></th>\n",
       "      <th>Unnamed: 0</th>\n",
       "      <th>Sensor-1</th>\n",
       "      <th>Sensor-2</th>\n",
       "      <th>Sensor-3</th>\n",
       "      <th>Sensor-4</th>\n",
       "      <th>Sensor-5</th>\n",
       "      <th>Sensor-6</th>\n",
       "      <th>Sensor-7</th>\n",
       "      <th>Sensor-8</th>\n",
       "      <th>Sensor-9</th>\n",
       "      <th>...</th>\n",
       "      <th>Sensor-582</th>\n",
       "      <th>Sensor-583</th>\n",
       "      <th>Sensor-584</th>\n",
       "      <th>Sensor-585</th>\n",
       "      <th>Sensor-586</th>\n",
       "      <th>Sensor-587</th>\n",
       "      <th>Sensor-588</th>\n",
       "      <th>Sensor-589</th>\n",
       "      <th>Sensor-590</th>\n",
       "      <th>Good/Bad</th>\n",
       "    </tr>\n",
       "  </thead>\n",
       "  <tbody>\n",
       "    <tr>\n",
       "      <th>0</th>\n",
       "      <td>Wafer-501</td>\n",
       "      <td>3076.81</td>\n",
       "      <td>2158.75</td>\n",
       "      <td>2208.2334</td>\n",
       "      <td>1517.0152</td>\n",
       "      <td>1.0980</td>\n",
       "      <td>100</td>\n",
       "      <td>110.1900</td>\n",
       "      <td>0.1247</td>\n",
       "      <td>1.4357</td>\n",
       "      <td>...</td>\n",
       "      <td>64.2405</td>\n",
       "      <td>0.5016</td>\n",
       "      <td>0.0152</td>\n",
       "      <td>0.0040</td>\n",
       "      <td>3.0319</td>\n",
       "      <td>0.0465</td>\n",
       "      <td>0.0299</td>\n",
       "      <td>0.0090</td>\n",
       "      <td>64.2405</td>\n",
       "      <td>-1</td>\n",
       "    </tr>\n",
       "    <tr>\n",
       "      <th>1</th>\n",
       "      <td>Wafer-502</td>\n",
       "      <td>2951.62</td>\n",
       "      <td>2511.92</td>\n",
       "      <td>2253.5111</td>\n",
       "      <td>1397.5060</td>\n",
       "      <td>0.9660</td>\n",
       "      <td>100</td>\n",
       "      <td>109.7611</td>\n",
       "      <td>0.1210</td>\n",
       "      <td>1.5527</td>\n",
       "      <td>...</td>\n",
       "      <td>0.0000</td>\n",
       "      <td>0.4953</td>\n",
       "      <td>0.0105</td>\n",
       "      <td>0.0037</td>\n",
       "      <td>2.1266</td>\n",
       "      <td>-0.0012</td>\n",
       "      <td>0.0252</td>\n",
       "      <td>0.0081</td>\n",
       "      <td>0.0000</td>\n",
       "      <td>-1</td>\n",
       "    </tr>\n",
       "    <tr>\n",
       "      <th>2</th>\n",
       "      <td>Wafer-503</td>\n",
       "      <td>2930.42</td>\n",
       "      <td>2505.17</td>\n",
       "      <td>2235.0556</td>\n",
       "      <td>1302.6607</td>\n",
       "      <td>1.6347</td>\n",
       "      <td>100</td>\n",
       "      <td>109.9856</td>\n",
       "      <td>0.1230</td>\n",
       "      <td>1.4588</td>\n",
       "      <td>...</td>\n",
       "      <td>NaN</td>\n",
       "      <td>0.4958</td>\n",
       "      <td>0.0111</td>\n",
       "      <td>0.0033</td>\n",
       "      <td>2.2296</td>\n",
       "      <td>-0.0012</td>\n",
       "      <td>0.0252</td>\n",
       "      <td>0.0081</td>\n",
       "      <td>0.0000</td>\n",
       "      <td>-1</td>\n",
       "    </tr>\n",
       "    <tr>\n",
       "      <th>3</th>\n",
       "      <td>Wafer-504</td>\n",
       "      <td>2997.28</td>\n",
       "      <td>2357.99</td>\n",
       "      <td>2141.0667</td>\n",
       "      <td>1236.5212</td>\n",
       "      <td>0.9698</td>\n",
       "      <td>100</td>\n",
       "      <td>98.3344</td>\n",
       "      <td>0.1238</td>\n",
       "      <td>1.5973</td>\n",
       "      <td>...</td>\n",
       "      <td>NaN</td>\n",
       "      <td>0.4962</td>\n",
       "      <td>0.0086</td>\n",
       "      <td>0.0024</td>\n",
       "      <td>1.7297</td>\n",
       "      <td>-0.0012</td>\n",
       "      <td>0.0252</td>\n",
       "      <td>0.0081</td>\n",
       "      <td>0.0000</td>\n",
       "      <td>-1</td>\n",
       "    </tr>\n",
       "    <tr>\n",
       "      <th>4</th>\n",
       "      <td>Wafer-505</td>\n",
       "      <td>3025.10</td>\n",
       "      <td>2475.18</td>\n",
       "      <td>2235.0556</td>\n",
       "      <td>1302.6607</td>\n",
       "      <td>1.6347</td>\n",
       "      <td>100</td>\n",
       "      <td>109.9856</td>\n",
       "      <td>0.1230</td>\n",
       "      <td>1.5525</td>\n",
       "      <td>...</td>\n",
       "      <td>NaN</td>\n",
       "      <td>0.4983</td>\n",
       "      <td>0.0159</td>\n",
       "      <td>0.0041</td>\n",
       "      <td>3.1927</td>\n",
       "      <td>-0.0012</td>\n",
       "      <td>0.0252</td>\n",
       "      <td>0.0081</td>\n",
       "      <td>0.0000</td>\n",
       "      <td>-1</td>\n",
       "    </tr>\n",
       "  </tbody>\n",
       "</table>\n",
       "<p>5 rows × 592 columns</p>\n",
       "</div>"
      ],
      "text/plain": [
       "  Unnamed: 0  Sensor-1  Sensor-2   Sensor-3   Sensor-4  Sensor-5  Sensor-6  \\\n",
       "0  Wafer-501   3076.81   2158.75  2208.2334  1517.0152    1.0980       100   \n",
       "1  Wafer-502   2951.62   2511.92  2253.5111  1397.5060    0.9660       100   \n",
       "2  Wafer-503   2930.42   2505.17  2235.0556  1302.6607    1.6347       100   \n",
       "3  Wafer-504   2997.28   2357.99  2141.0667  1236.5212    0.9698       100   \n",
       "4  Wafer-505   3025.10   2475.18  2235.0556  1302.6607    1.6347       100   \n",
       "\n",
       "   Sensor-7  Sensor-8  Sensor-9  ...  Sensor-582  Sensor-583  Sensor-584  \\\n",
       "0  110.1900    0.1247    1.4357  ...     64.2405      0.5016      0.0152   \n",
       "1  109.7611    0.1210    1.5527  ...      0.0000      0.4953      0.0105   \n",
       "2  109.9856    0.1230    1.4588  ...         NaN      0.4958      0.0111   \n",
       "3   98.3344    0.1238    1.5973  ...         NaN      0.4962      0.0086   \n",
       "4  109.9856    0.1230    1.5525  ...         NaN      0.4983      0.0159   \n",
       "\n",
       "   Sensor-585  Sensor-586  Sensor-587  Sensor-588  Sensor-589  Sensor-590  \\\n",
       "0      0.0040      3.0319      0.0465      0.0299      0.0090     64.2405   \n",
       "1      0.0037      2.1266     -0.0012      0.0252      0.0081      0.0000   \n",
       "2      0.0033      2.2296     -0.0012      0.0252      0.0081      0.0000   \n",
       "3      0.0024      1.7297     -0.0012      0.0252      0.0081      0.0000   \n",
       "4      0.0041      3.1927     -0.0012      0.0252      0.0081      0.0000   \n",
       "\n",
       "   Good/Bad  \n",
       "0        -1  \n",
       "1        -1  \n",
       "2        -1  \n",
       "3        -1  \n",
       "4        -1  \n",
       "\n",
       "[5 rows x 592 columns]"
      ]
     },
     "execution_count": 27,
     "metadata": {},
     "output_type": "execute_result"
    }
   ],
   "source": [
    "df.head()"
   ]
  },
  {
   "cell_type": "code",
   "execution_count": 26,
   "id": "a5148786",
   "metadata": {},
   "outputs": [
    {
     "data": {
      "text/plain": [
       "True"
      ]
     },
     "execution_count": 26,
     "metadata": {},
     "output_type": "execute_result"
    }
   ],
   "source": [
    "df.columns[0] == 'Unnamed: 0'"
   ]
  },
  {
   "cell_type": "code",
   "execution_count": 8,
   "id": "79368320",
   "metadata": {},
   "outputs": [
    {
     "data": {
      "text/plain": [
       "(100, 592)"
      ]
     },
     "execution_count": 8,
     "metadata": {},
     "output_type": "execute_result"
    }
   ],
   "source": [
    "df.shape"
   ]
  },
  {
   "cell_type": "code",
   "execution_count": 9,
   "id": "4fe23946",
   "metadata": {},
   "outputs": [],
   "source": [
    "df = df.drop(df.columns[-1], axis=1)"
   ]
  },
  {
   "cell_type": "code",
   "execution_count": 11,
   "id": "23fb19a5",
   "metadata": {},
   "outputs": [],
   "source": [
    "df.to_csv(os.path.join(path, \"wafer_07012021_041011.csv\"), index=False)"
   ]
  },
  {
   "cell_type": "code",
   "execution_count": null,
   "id": "7b5a64c9",
   "metadata": {},
   "outputs": [],
   "source": []
  },
  {
   "cell_type": "code",
   "execution_count": 12,
   "id": "7203c720",
   "metadata": {},
   "outputs": [
    {
     "name": "stdout",
     "output_type": "stream",
     "text": [
      "A    False\n",
      "B     True\n",
      "C    False\n",
      "dtype: bool\n"
     ]
    }
   ],
   "source": [
    "import pandas as pd\n",
    "import numpy as np\n",
    "\n",
    "# Create a sample DataFrame with NaN values\n",
    "data = {'A': [1, 2, np.nan, 4],\n",
    "        'B': [np.nan, np.nan, np.nan, np.nan],\n",
    "        'C': [1, 2, 3, 4]}\n",
    "\n",
    "df = pd.DataFrame(data)\n",
    "\n",
    "# Check if all values in each column are NaN\n",
    "all_nan_columns = df.isna().all()\n",
    "\n",
    "# The result is a Series with True for columns where all values are NaN, and False otherwise\n",
    "print(all_nan_columns)\n"
   ]
  },
  {
   "cell_type": "code",
   "execution_count": 21,
   "id": "eef9eb64",
   "metadata": {},
   "outputs": [
    {
     "data": {
      "text/plain": [
       "['B']"
      ]
     },
     "execution_count": 21,
     "metadata": {},
     "output_type": "execute_result"
    }
   ],
   "source": [
    "list(all_nan_columns[all_nan_columns.values == True].index)"
   ]
  },
  {
   "cell_type": "code",
   "execution_count": 15,
   "id": "7ab92829",
   "metadata": {},
   "outputs": [
    {
     "ename": "TypeError",
     "evalue": "unhashable type: 'numpy.ndarray'",
     "output_type": "error",
     "traceback": [
      "\u001b[0;31m---------------------------------------------------------------------------\u001b[0m",
      "\u001b[0;31mTypeError\u001b[0m                                 Traceback (most recent call last)",
      "\u001b[0;32m<ipython-input-15-6685720764f2>\u001b[0m in \u001b[0;36m<module>\u001b[0;34m\u001b[0m\n\u001b[0;32m----> 1\u001b[0;31m \u001b[0mdata\u001b[0m\u001b[0;34m[\u001b[0m\u001b[0mall_nan_columns\u001b[0m\u001b[0;34m.\u001b[0m\u001b[0mvalues\u001b[0m\u001b[0;34m==\u001b[0m\u001b[0;32mTrue\u001b[0m\u001b[0;34m]\u001b[0m\u001b[0;34m\u001b[0m\u001b[0;34m\u001b[0m\u001b[0m\n\u001b[0m",
      "\u001b[0;31mTypeError\u001b[0m: unhashable type: 'numpy.ndarray'"
     ]
    }
   ],
   "source": [
    "data[all_nan_columns.values==True]"
   ]
  },
  {
   "cell_type": "code",
   "execution_count": 28,
   "id": "b62c0aa6",
   "metadata": {},
   "outputs": [
    {
     "name": "stdout",
     "output_type": "stream",
     "text": [
      "Unnamed: 0    False\n",
      "Sensor-1      False\n",
      "Sensor-2      False\n",
      "Sensor-3      False\n",
      "Sensor-4      False\n",
      "              ...  \n",
      "Sensor-587    False\n",
      "Sensor-588    False\n",
      "Sensor-589    False\n",
      "Sensor-590    False\n",
      "Good/Bad      False\n",
      "Length: 592, dtype: bool\n"
     ]
    }
   ],
   "source": [
    "# Check if all values in each column are NaN\n",
    "all_nan_columns = df.isna().all()\n",
    "\n",
    "# The result is a Series with True for columns where all values are NaN, and False otherwise\n",
    "print(all_nan_columns)"
   ]
  },
  {
   "cell_type": "code",
   "execution_count": 29,
   "id": "9075f2e4",
   "metadata": {},
   "outputs": [
    {
     "data": {
      "text/plain": [
       "['Sensor-86',\n",
       " 'Sensor-110',\n",
       " 'Sensor-111',\n",
       " 'Sensor-112',\n",
       " 'Sensor-221',\n",
       " 'Sensor-245',\n",
       " 'Sensor-246',\n",
       " 'Sensor-247',\n",
       " 'Sensor-359',\n",
       " 'Sensor-383',\n",
       " 'Sensor-384',\n",
       " 'Sensor-385',\n",
       " 'Sensor-493',\n",
       " 'Sensor-517',\n",
       " 'Sensor-518',\n",
       " 'Sensor-519']"
      ]
     },
     "execution_count": 29,
     "metadata": {},
     "output_type": "execute_result"
    }
   ],
   "source": [
    "list(all_nan_columns[all_nan_columns.values == True].index)"
   ]
  },
  {
   "cell_type": "code",
   "execution_count": 34,
   "id": "6ecb3d6e",
   "metadata": {},
   "outputs": [
    {
     "data": {
      "text/plain": [
       "True"
      ]
     },
     "execution_count": 34,
     "metadata": {},
     "output_type": "execute_result"
    }
   ],
   "source": [
    "df['Sensor-519'].isna().all()"
   ]
  },
  {
   "cell_type": "code",
   "execution_count": null,
   "id": "d5d2593a",
   "metadata": {},
   "outputs": [],
   "source": []
  },
  {
   "cell_type": "code",
   "execution_count": 1,
   "id": "1caef1bc",
   "metadata": {},
   "outputs": [],
   "source": [
    "import pandas as pd"
   ]
  },
  {
   "cell_type": "code",
   "execution_count": 2,
   "id": "42cabb58",
   "metadata": {},
   "outputs": [
    {
     "data": {
      "text/html": [
       "<div>\n",
       "<style scoped>\n",
       "    .dataframe tbody tr th:only-of-type {\n",
       "        vertical-align: middle;\n",
       "    }\n",
       "\n",
       "    .dataframe tbody tr th {\n",
       "        vertical-align: top;\n",
       "    }\n",
       "\n",
       "    .dataframe thead th {\n",
       "        text-align: right;\n",
       "    }\n",
       "</style>\n",
       "<table border=\"1\" class=\"dataframe\">\n",
       "  <thead>\n",
       "    <tr style=\"text-align: right;\">\n",
       "      <th></th>\n",
       "      <th>Unnamed: 0</th>\n",
       "      <th>Sensor-1</th>\n",
       "      <th>Sensor-2</th>\n",
       "      <th>Sensor-3</th>\n",
       "      <th>Sensor-4</th>\n",
       "      <th>Sensor-5</th>\n",
       "      <th>Sensor-6</th>\n",
       "      <th>Sensor-7</th>\n",
       "      <th>Sensor-8</th>\n",
       "      <th>Sensor-9</th>\n",
       "      <th>...</th>\n",
       "      <th>Sensor-581</th>\n",
       "      <th>Sensor-582</th>\n",
       "      <th>Sensor-583</th>\n",
       "      <th>Sensor-584</th>\n",
       "      <th>Sensor-585</th>\n",
       "      <th>Sensor-586</th>\n",
       "      <th>Sensor-587</th>\n",
       "      <th>Sensor-588</th>\n",
       "      <th>Sensor-589</th>\n",
       "      <th>Sensor-590</th>\n",
       "    </tr>\n",
       "  </thead>\n",
       "  <tbody>\n",
       "    <tr>\n",
       "      <th>0</th>\n",
       "      <td>Wafer-800</td>\n",
       "      <td>3002.22</td>\n",
       "      <td>2462.06</td>\n",
       "      <td>2202.1222</td>\n",
       "      <td>1833.3772</td>\n",
       "      <td>1.8005</td>\n",
       "      <td>100</td>\n",
       "      <td>95.8500</td>\n",
       "      <td>0.1242</td>\n",
       "      <td>1.5173</td>\n",
       "      <td>...</td>\n",
       "      <td>NaN</td>\n",
       "      <td>NaN</td>\n",
       "      <td>0.5021</td>\n",
       "      <td>0.0071</td>\n",
       "      <td>0.0024</td>\n",
       "      <td>1.4182</td>\n",
       "      <td>0.0545</td>\n",
       "      <td>0.0184</td>\n",
       "      <td>0.0055</td>\n",
       "      <td>33.7876</td>\n",
       "    </tr>\n",
       "    <tr>\n",
       "      <th>1</th>\n",
       "      <td>Wafer-500</td>\n",
       "      <td>3047.28</td>\n",
       "      <td>2186.06</td>\n",
       "      <td>2235.0556</td>\n",
       "      <td>1302.6607</td>\n",
       "      <td>1.6347</td>\n",
       "      <td>100</td>\n",
       "      <td>109.9856</td>\n",
       "      <td>0.1230</td>\n",
       "      <td>1.4619</td>\n",
       "      <td>...</td>\n",
       "      <td>NaN</td>\n",
       "      <td>NaN</td>\n",
       "      <td>0.4998</td>\n",
       "      <td>0.0131</td>\n",
       "      <td>0.0033</td>\n",
       "      <td>2.6229</td>\n",
       "      <td>0.0222</td>\n",
       "      <td>0.0182</td>\n",
       "      <td>0.0060</td>\n",
       "      <td>81.9472</td>\n",
       "    </tr>\n",
       "    <tr>\n",
       "      <th>2</th>\n",
       "      <td>Wafer-501</td>\n",
       "      <td>3076.81</td>\n",
       "      <td>2158.75</td>\n",
       "      <td>2208.2334</td>\n",
       "      <td>1517.0152</td>\n",
       "      <td>1.0980</td>\n",
       "      <td>100</td>\n",
       "      <td>110.1900</td>\n",
       "      <td>0.1247</td>\n",
       "      <td>1.4357</td>\n",
       "      <td>...</td>\n",
       "      <td>0.0090</td>\n",
       "      <td>64.2405</td>\n",
       "      <td>0.5016</td>\n",
       "      <td>0.0152</td>\n",
       "      <td>0.0040</td>\n",
       "      <td>3.0319</td>\n",
       "      <td>0.0465</td>\n",
       "      <td>0.0299</td>\n",
       "      <td>0.0090</td>\n",
       "      <td>64.2405</td>\n",
       "    </tr>\n",
       "    <tr>\n",
       "      <th>3</th>\n",
       "      <td>Wafer-502</td>\n",
       "      <td>2951.62</td>\n",
       "      <td>2511.92</td>\n",
       "      <td>2253.5111</td>\n",
       "      <td>1397.5060</td>\n",
       "      <td>0.9660</td>\n",
       "      <td>100</td>\n",
       "      <td>109.7611</td>\n",
       "      <td>0.1210</td>\n",
       "      <td>1.5527</td>\n",
       "      <td>...</td>\n",
       "      <td>0.0081</td>\n",
       "      <td>0.0000</td>\n",
       "      <td>0.4953</td>\n",
       "      <td>0.0105</td>\n",
       "      <td>0.0037</td>\n",
       "      <td>2.1266</td>\n",
       "      <td>-0.0012</td>\n",
       "      <td>0.0252</td>\n",
       "      <td>0.0081</td>\n",
       "      <td>0.0000</td>\n",
       "    </tr>\n",
       "    <tr>\n",
       "      <th>4</th>\n",
       "      <td>Wafer-503</td>\n",
       "      <td>2930.42</td>\n",
       "      <td>2505.17</td>\n",
       "      <td>2235.0556</td>\n",
       "      <td>1302.6607</td>\n",
       "      <td>1.6347</td>\n",
       "      <td>100</td>\n",
       "      <td>109.9856</td>\n",
       "      <td>0.1230</td>\n",
       "      <td>1.4588</td>\n",
       "      <td>...</td>\n",
       "      <td>NaN</td>\n",
       "      <td>NaN</td>\n",
       "      <td>0.4958</td>\n",
       "      <td>0.0111</td>\n",
       "      <td>0.0033</td>\n",
       "      <td>2.2296</td>\n",
       "      <td>-0.0012</td>\n",
       "      <td>0.0252</td>\n",
       "      <td>0.0081</td>\n",
       "      <td>0.0000</td>\n",
       "    </tr>\n",
       "  </tbody>\n",
       "</table>\n",
       "<p>5 rows × 591 columns</p>\n",
       "</div>"
      ],
      "text/plain": [
       "  Unnamed: 0  Sensor-1  Sensor-2   Sensor-3   Sensor-4  Sensor-5  Sensor-6  \\\n",
       "0  Wafer-800   3002.22   2462.06  2202.1222  1833.3772    1.8005       100   \n",
       "1  Wafer-500   3047.28   2186.06  2235.0556  1302.6607    1.6347       100   \n",
       "2  Wafer-501   3076.81   2158.75  2208.2334  1517.0152    1.0980       100   \n",
       "3  Wafer-502   2951.62   2511.92  2253.5111  1397.5060    0.9660       100   \n",
       "4  Wafer-503   2930.42   2505.17  2235.0556  1302.6607    1.6347       100   \n",
       "\n",
       "   Sensor-7  Sensor-8  Sensor-9  ...  Sensor-581  Sensor-582  Sensor-583  \\\n",
       "0   95.8500    0.1242    1.5173  ...         NaN         NaN      0.5021   \n",
       "1  109.9856    0.1230    1.4619  ...         NaN         NaN      0.4998   \n",
       "2  110.1900    0.1247    1.4357  ...      0.0090     64.2405      0.5016   \n",
       "3  109.7611    0.1210    1.5527  ...      0.0081      0.0000      0.4953   \n",
       "4  109.9856    0.1230    1.4588  ...         NaN         NaN      0.4958   \n",
       "\n",
       "   Sensor-584  Sensor-585  Sensor-586  Sensor-587  Sensor-588  Sensor-589  \\\n",
       "0      0.0071      0.0024      1.4182      0.0545      0.0184      0.0055   \n",
       "1      0.0131      0.0033      2.6229      0.0222      0.0182      0.0060   \n",
       "2      0.0152      0.0040      3.0319      0.0465      0.0299      0.0090   \n",
       "3      0.0105      0.0037      2.1266     -0.0012      0.0252      0.0081   \n",
       "4      0.0111      0.0033      2.2296     -0.0012      0.0252      0.0081   \n",
       "\n",
       "   Sensor-590  \n",
       "0     33.7876  \n",
       "1     81.9472  \n",
       "2     64.2405  \n",
       "3      0.0000  \n",
       "4      0.0000  \n",
       "\n",
       "[5 rows x 591 columns]"
      ]
     },
     "execution_count": 2,
     "metadata": {},
     "output_type": "execute_result"
    }
   ],
   "source": [
    "file_path = \"\"\"/Users/admin/Documents/Projects/wafer_fault_detection_1/code/Prediction_Batch_files/Wafer_15010_130532.csv\"\"\"\n",
    "df = pd.read_csv(file_path)\n",
    "df.head()"
   ]
  },
  {
   "cell_type": "code",
   "execution_count": 3,
   "id": "b592ba76",
   "metadata": {},
   "outputs": [],
   "source": [
    "import sqlite3"
   ]
  },
  {
   "cell_type": "code",
   "execution_count": 8,
   "id": "492664fb",
   "metadata": {},
   "outputs": [],
   "source": [
    "path = \"/Users/admin/Documents/Projects/wafer_fault_detection_1/code/Training_Database.Training.db\"\n",
    "conn = sqlite3.connect(path)"
   ]
  },
  {
   "cell_type": "code",
   "execution_count": 20,
   "id": "905df76d",
   "metadata": {},
   "outputs": [],
   "source": [
    "my_cursor = conn.cursor()"
   ]
  },
  {
   "cell_type": "code",
   "execution_count": 10,
   "id": "9e0c3939",
   "metadata": {},
   "outputs": [
    {
     "ename": "OperationalError",
     "evalue": "no such table: Good_Raw_Data",
     "output_type": "error",
     "traceback": [
      "\u001b[0;31m---------------------------------------------------------------------------\u001b[0m",
      "\u001b[0;31mOperationalError\u001b[0m                          Traceback (most recent call last)",
      "\u001b[0;32m/var/folders/1f/t9n3prg92hsg35p3jtps00c40000gn/T/ipykernel_36636/1721467824.py\u001b[0m in \u001b[0;36m<module>\u001b[0;34m\u001b[0m\n\u001b[1;32m      1\u001b[0m \u001b[0mcol_name\u001b[0m \u001b[0;34m=\u001b[0m \u001b[0;34m\"col1\"\u001b[0m\u001b[0;34m\u001b[0m\u001b[0;34m\u001b[0m\u001b[0m\n\u001b[1;32m      2\u001b[0m \u001b[0mdtype\u001b[0m \u001b[0;34m=\u001b[0m \u001b[0;34m\"varchar(20)\"\u001b[0m\u001b[0;34m\u001b[0m\u001b[0;34m\u001b[0m\u001b[0m\n\u001b[0;32m----> 3\u001b[0;31m \u001b[0mmy_cursor\u001b[0m\u001b[0;34m.\u001b[0m\u001b[0mexecute\u001b[0m\u001b[0;34m(\u001b[0m\u001b[0;34m'ALTER TABLE Good_Raw_Data ADD COLUMN \"{column_name}\" {data_type}'\u001b[0m\u001b[0;34m.\u001b[0m\u001b[0mformat\u001b[0m\u001b[0;34m(\u001b[0m\u001b[0mcolumn_name\u001b[0m\u001b[0;34m=\u001b[0m\u001b[0mcol_name\u001b[0m\u001b[0;34m,\u001b[0m \u001b[0mdata_type\u001b[0m\u001b[0;34m=\u001b[0m\u001b[0mdtype\u001b[0m\u001b[0;34m)\u001b[0m\u001b[0;34m)\u001b[0m\u001b[0;34m\u001b[0m\u001b[0;34m\u001b[0m\u001b[0m\n\u001b[0m",
      "\u001b[0;31mOperationalError\u001b[0m: no such table: Good_Raw_Data"
     ]
    }
   ],
   "source": [
    "col_name = \"col1\"\n",
    "dtype = \"varchar(20)\"\n",
    "my_cursor.execute('ALTER TABLE Good_Raw_Data ADD COLUMN \"{column_name}\" {data_type}'.format(column_name=col_name, data_type=dtype))"
   ]
  },
  {
   "cell_type": "code",
   "execution_count": 22,
   "id": "a5094f60",
   "metadata": {},
   "outputs": [
    {
     "data": {
      "text/plain": [
       "<sqlite3.Cursor at 0x120f0ef10>"
      ]
     },
     "execution_count": 22,
     "metadata": {},
     "output_type": "execute_result"
    }
   ],
   "source": [
    "my_cursor.execute(\"SELECT count(name) FROM sqlite_master WHERE type='table' AND name='Good_Raw_Data'\")"
   ]
  },
  {
   "cell_type": "code",
   "execution_count": 21,
   "id": "e6556963",
   "metadata": {},
   "outputs": [
    {
     "data": {
      "text/plain": [
       "[]"
      ]
     },
     "execution_count": 21,
     "metadata": {},
     "output_type": "execute_result"
    }
   ],
   "source": [
    "my_cursor.fetchall()"
   ]
  },
  {
   "cell_type": "code",
   "execution_count": 19,
   "id": "e13b14aa",
   "metadata": {},
   "outputs": [],
   "source": [
    "my_cursor.close()"
   ]
  },
  {
   "cell_type": "code",
   "execution_count": 23,
   "id": "0d371f26",
   "metadata": {},
   "outputs": [
    {
     "data": {
      "text/plain": [
       "(0,)"
      ]
     },
     "execution_count": 23,
     "metadata": {},
     "output_type": "execute_result"
    }
   ],
   "source": [
    "my_cursor.fetchone()"
   ]
  },
  {
   "cell_type": "code",
   "execution_count": null,
   "id": "126a72a1",
   "metadata": {},
   "outputs": [],
   "source": []
  },
  {
   "cell_type": "code",
   "execution_count": 24,
   "id": "1aa8e6f6",
   "metadata": {},
   "outputs": [
    {
     "data": {
      "text/html": [
       "<div>\n",
       "<style scoped>\n",
       "    .dataframe tbody tr th:only-of-type {\n",
       "        vertical-align: middle;\n",
       "    }\n",
       "\n",
       "    .dataframe tbody tr th {\n",
       "        vertical-align: top;\n",
       "    }\n",
       "\n",
       "    .dataframe thead th {\n",
       "        text-align: right;\n",
       "    }\n",
       "</style>\n",
       "<table border=\"1\" class=\"dataframe\">\n",
       "  <thead>\n",
       "    <tr style=\"text-align: right;\">\n",
       "      <th></th>\n",
       "      <th>Unnamed: 0</th>\n",
       "      <th>Sensor-1</th>\n",
       "      <th>Sensor-2</th>\n",
       "      <th>Sensor-3</th>\n",
       "      <th>Sensor-4</th>\n",
       "      <th>Sensor-5</th>\n",
       "      <th>Sensor-6</th>\n",
       "      <th>Sensor-7</th>\n",
       "      <th>Sensor-8</th>\n",
       "      <th>Sensor-9</th>\n",
       "      <th>...</th>\n",
       "      <th>Sensor-581</th>\n",
       "      <th>Sensor-582</th>\n",
       "      <th>Sensor-583</th>\n",
       "      <th>Sensor-584</th>\n",
       "      <th>Sensor-585</th>\n",
       "      <th>Sensor-586</th>\n",
       "      <th>Sensor-587</th>\n",
       "      <th>Sensor-588</th>\n",
       "      <th>Sensor-589</th>\n",
       "      <th>Sensor-590</th>\n",
       "    </tr>\n",
       "  </thead>\n",
       "  <tbody>\n",
       "    <tr>\n",
       "      <th>0</th>\n",
       "      <td>Wafer-1300</td>\n",
       "      <td>3266.55</td>\n",
       "      <td>2425.30</td>\n",
       "      <td>2211.4000</td>\n",
       "      <td>1511.7842</td>\n",
       "      <td>1.3004</td>\n",
       "      <td>100</td>\n",
       "      <td>97.4700</td>\n",
       "      <td>0.1237</td>\n",
       "      <td>1.4321</td>\n",
       "      <td>...</td>\n",
       "      <td>NaN</td>\n",
       "      <td>NaN</td>\n",
       "      <td>0.4997</td>\n",
       "      <td>0.0126</td>\n",
       "      <td>0.0030</td>\n",
       "      <td>2.5135</td>\n",
       "      <td>0.023</td>\n",
       "      <td>0.021</td>\n",
       "      <td>0.0053</td>\n",
       "      <td>91.4264</td>\n",
       "    </tr>\n",
       "    <tr>\n",
       "      <th>1</th>\n",
       "      <td>Wafer-1301</td>\n",
       "      <td>2996.01</td>\n",
       "      <td>2541.13</td>\n",
       "      <td>2205.2555</td>\n",
       "      <td>1412.7131</td>\n",
       "      <td>0.9785</td>\n",
       "      <td>100</td>\n",
       "      <td>95.2556</td>\n",
       "      <td>0.1216</td>\n",
       "      <td>1.5507</td>\n",
       "      <td>...</td>\n",
       "      <td>NaN</td>\n",
       "      <td>NaN</td>\n",
       "      <td>0.4961</td>\n",
       "      <td>0.0143</td>\n",
       "      <td>0.0036</td>\n",
       "      <td>2.8843</td>\n",
       "      <td>0.023</td>\n",
       "      <td>0.021</td>\n",
       "      <td>0.0053</td>\n",
       "      <td>91.4264</td>\n",
       "    </tr>\n",
       "    <tr>\n",
       "      <th>2</th>\n",
       "      <td>Wafer-1302</td>\n",
       "      <td>3001.56</td>\n",
       "      <td>2506.62</td>\n",
       "      <td>2223.0444</td>\n",
       "      <td>1194.5986</td>\n",
       "      <td>1.2016</td>\n",
       "      <td>100</td>\n",
       "      <td>112.5811</td>\n",
       "      <td>0.1229</td>\n",
       "      <td>1.4004</td>\n",
       "      <td>...</td>\n",
       "      <td>NaN</td>\n",
       "      <td>NaN</td>\n",
       "      <td>0.4967</td>\n",
       "      <td>0.0127</td>\n",
       "      <td>0.0033</td>\n",
       "      <td>2.5516</td>\n",
       "      <td>0.023</td>\n",
       "      <td>0.021</td>\n",
       "      <td>0.0053</td>\n",
       "      <td>91.4264</td>\n",
       "    </tr>\n",
       "    <tr>\n",
       "      <th>3</th>\n",
       "      <td>Wafer-1303</td>\n",
       "      <td>3045.48</td>\n",
       "      <td>2408.85</td>\n",
       "      <td>2223.0444</td>\n",
       "      <td>1194.5986</td>\n",
       "      <td>1.2016</td>\n",
       "      <td>100</td>\n",
       "      <td>112.5811</td>\n",
       "      <td>0.1229</td>\n",
       "      <td>1.3838</td>\n",
       "      <td>...</td>\n",
       "      <td>NaN</td>\n",
       "      <td>NaN</td>\n",
       "      <td>0.4990</td>\n",
       "      <td>0.0137</td>\n",
       "      <td>0.0032</td>\n",
       "      <td>2.7392</td>\n",
       "      <td>0.023</td>\n",
       "      <td>0.021</td>\n",
       "      <td>0.0053</td>\n",
       "      <td>91.4264</td>\n",
       "    </tr>\n",
       "    <tr>\n",
       "      <th>4</th>\n",
       "      <td>Wafer-1304</td>\n",
       "      <td>2971.75</td>\n",
       "      <td>2566.30</td>\n",
       "      <td>2206.4000</td>\n",
       "      <td>982.5452</td>\n",
       "      <td>1.1853</td>\n",
       "      <td>100</td>\n",
       "      <td>116.8167</td>\n",
       "      <td>0.1228</td>\n",
       "      <td>1.5840</td>\n",
       "      <td>...</td>\n",
       "      <td>NaN</td>\n",
       "      <td>NaN</td>\n",
       "      <td>0.4963</td>\n",
       "      <td>0.0160</td>\n",
       "      <td>0.0041</td>\n",
       "      <td>3.2258</td>\n",
       "      <td>0.023</td>\n",
       "      <td>0.021</td>\n",
       "      <td>0.0053</td>\n",
       "      <td>91.4264</td>\n",
       "    </tr>\n",
       "  </tbody>\n",
       "</table>\n",
       "<p>5 rows × 591 columns</p>\n",
       "</div>"
      ],
      "text/plain": [
       "   Unnamed: 0  Sensor-1  Sensor-2   Sensor-3   Sensor-4  Sensor-5  Sensor-6  \\\n",
       "0  Wafer-1300   3266.55   2425.30  2211.4000  1511.7842    1.3004       100   \n",
       "1  Wafer-1301   2996.01   2541.13  2205.2555  1412.7131    0.9785       100   \n",
       "2  Wafer-1302   3001.56   2506.62  2223.0444  1194.5986    1.2016       100   \n",
       "3  Wafer-1303   3045.48   2408.85  2223.0444  1194.5986    1.2016       100   \n",
       "4  Wafer-1304   2971.75   2566.30  2206.4000   982.5452    1.1853       100   \n",
       "\n",
       "   Sensor-7  Sensor-8  Sensor-9  ...  Sensor-581  Sensor-582  Sensor-583  \\\n",
       "0   97.4700    0.1237    1.4321  ...         NaN         NaN      0.4997   \n",
       "1   95.2556    0.1216    1.5507  ...         NaN         NaN      0.4961   \n",
       "2  112.5811    0.1229    1.4004  ...         NaN         NaN      0.4967   \n",
       "3  112.5811    0.1229    1.3838  ...         NaN         NaN      0.4990   \n",
       "4  116.8167    0.1228    1.5840  ...         NaN         NaN      0.4963   \n",
       "\n",
       "   Sensor-584  Sensor-585  Sensor-586  Sensor-587  Sensor-588  Sensor-589  \\\n",
       "0      0.0126      0.0030      2.5135       0.023       0.021      0.0053   \n",
       "1      0.0143      0.0036      2.8843       0.023       0.021      0.0053   \n",
       "2      0.0127      0.0033      2.5516       0.023       0.021      0.0053   \n",
       "3      0.0137      0.0032      2.7392       0.023       0.021      0.0053   \n",
       "4      0.0160      0.0041      3.2258       0.023       0.021      0.0053   \n",
       "\n",
       "   Sensor-590  \n",
       "0     91.4264  \n",
       "1     91.4264  \n",
       "2     91.4264  \n",
       "3     91.4264  \n",
       "4     91.4264  \n",
       "\n",
       "[5 rows x 591 columns]"
      ]
     },
     "execution_count": 24,
     "metadata": {},
     "output_type": "execute_result"
    }
   ],
   "source": [
    "import pandas as pd\n",
    "\n",
    "file_path = \"/Users/admin/Documents/Projects/wafer_fault_detection_1/code/Training_Batch_Files/Wafer_08012020_120000.csv\"\n",
    "df = pd.read_csv(file_path)\n",
    "df.head()"
   ]
  },
  {
   "cell_type": "code",
   "execution_count": 27,
   "id": "f757eb40",
   "metadata": {},
   "outputs": [
    {
     "data": {
      "text/html": [
       "<div>\n",
       "<style scoped>\n",
       "    .dataframe tbody tr th:only-of-type {\n",
       "        vertical-align: middle;\n",
       "    }\n",
       "\n",
       "    .dataframe tbody tr th {\n",
       "        vertical-align: top;\n",
       "    }\n",
       "\n",
       "    .dataframe thead th {\n",
       "        text-align: right;\n",
       "    }\n",
       "</style>\n",
       "<table border=\"1\" class=\"dataframe\">\n",
       "  <thead>\n",
       "    <tr style=\"text-align: right;\">\n",
       "      <th></th>\n",
       "      <th>Wafer</th>\n",
       "      <th>Sensor-1</th>\n",
       "      <th>Sensor-2</th>\n",
       "      <th>Sensor-3</th>\n",
       "      <th>Sensor-4</th>\n",
       "      <th>Sensor-5</th>\n",
       "      <th>Sensor-6</th>\n",
       "      <th>Sensor-7</th>\n",
       "      <th>Sensor-8</th>\n",
       "      <th>Sensor-9</th>\n",
       "      <th>...</th>\n",
       "      <th>Sensor-582</th>\n",
       "      <th>Sensor-583</th>\n",
       "      <th>Sensor-584</th>\n",
       "      <th>Sensor-585</th>\n",
       "      <th>Sensor-586</th>\n",
       "      <th>Sensor-587</th>\n",
       "      <th>Sensor-588</th>\n",
       "      <th>Sensor-589</th>\n",
       "      <th>Sensor-590</th>\n",
       "      <th>Good/Bad</th>\n",
       "    </tr>\n",
       "  </thead>\n",
       "  <tbody>\n",
       "    <tr>\n",
       "      <th>0</th>\n",
       "      <td>Wafer-1201</td>\n",
       "      <td>3045.98</td>\n",
       "      <td>2544.85</td>\n",
       "      <td>2253.3444</td>\n",
       "      <td>1873.8678</td>\n",
       "      <td>1.1691</td>\n",
       "      <td>100</td>\n",
       "      <td>94.9722</td>\n",
       "      <td>0.1210</td>\n",
       "      <td>1.4752</td>\n",
       "      <td>...</td>\n",
       "      <td>NaN</td>\n",
       "      <td>0.4948</td>\n",
       "      <td>0.0123</td>\n",
       "      <td>0.0033</td>\n",
       "      <td>2.4804</td>\n",
       "      <td>0.0291</td>\n",
       "      <td>0.0102</td>\n",
       "      <td>0.0033</td>\n",
       "      <td>35.0279</td>\n",
       "      <td>-1</td>\n",
       "    </tr>\n",
       "    <tr>\n",
       "      <th>1</th>\n",
       "      <td>Wafer-1202</td>\n",
       "      <td>3151.98</td>\n",
       "      <td>2563.75</td>\n",
       "      <td>2175.2556</td>\n",
       "      <td>1022.1660</td>\n",
       "      <td>1.2833</td>\n",
       "      <td>100</td>\n",
       "      <td>100.6222</td>\n",
       "      <td>0.1250</td>\n",
       "      <td>1.4536</td>\n",
       "      <td>...</td>\n",
       "      <td>NaN</td>\n",
       "      <td>0.5063</td>\n",
       "      <td>0.0113</td>\n",
       "      <td>0.0031</td>\n",
       "      <td>2.2284</td>\n",
       "      <td>0.0291</td>\n",
       "      <td>0.0102</td>\n",
       "      <td>0.0033</td>\n",
       "      <td>35.0279</td>\n",
       "      <td>-1</td>\n",
       "    </tr>\n",
       "    <tr>\n",
       "      <th>2</th>\n",
       "      <td>Wafer-1203</td>\n",
       "      <td>3071.18</td>\n",
       "      <td>2489.86</td>\n",
       "      <td>2195.3000</td>\n",
       "      <td>1151.8233</td>\n",
       "      <td>0.9220</td>\n",
       "      <td>100</td>\n",
       "      <td>103.5467</td>\n",
       "      <td>0.1232</td>\n",
       "      <td>1.4826</td>\n",
       "      <td>...</td>\n",
       "      <td>NaN</td>\n",
       "      <td>0.5033</td>\n",
       "      <td>0.0112</td>\n",
       "      <td>0.0029</td>\n",
       "      <td>2.2320</td>\n",
       "      <td>0.0291</td>\n",
       "      <td>0.0102</td>\n",
       "      <td>0.0033</td>\n",
       "      <td>35.0279</td>\n",
       "      <td>-1</td>\n",
       "    </tr>\n",
       "    <tr>\n",
       "      <th>3</th>\n",
       "      <td>Wafer-1204</td>\n",
       "      <td>2958.46</td>\n",
       "      <td>2523.78</td>\n",
       "      <td>2171.8556</td>\n",
       "      <td>1156.6018</td>\n",
       "      <td>1.4025</td>\n",
       "      <td>100</td>\n",
       "      <td>100.1367</td>\n",
       "      <td>0.1243</td>\n",
       "      <td>1.4645</td>\n",
       "      <td>...</td>\n",
       "      <td>NaN</td>\n",
       "      <td>0.4954</td>\n",
       "      <td>0.0136</td>\n",
       "      <td>0.0033</td>\n",
       "      <td>2.7511</td>\n",
       "      <td>0.0291</td>\n",
       "      <td>0.0102</td>\n",
       "      <td>0.0033</td>\n",
       "      <td>35.0279</td>\n",
       "      <td>-1</td>\n",
       "    </tr>\n",
       "    <tr>\n",
       "      <th>4</th>\n",
       "      <td>Wafer-1205</td>\n",
       "      <td>3196.21</td>\n",
       "      <td>2413.39</td>\n",
       "      <td>2255.5222</td>\n",
       "      <td>1763.0739</td>\n",
       "      <td>1.2226</td>\n",
       "      <td>100</td>\n",
       "      <td>101.5878</td>\n",
       "      <td>0.1200</td>\n",
       "      <td>1.4845</td>\n",
       "      <td>...</td>\n",
       "      <td>353.8319</td>\n",
       "      <td>0.5058</td>\n",
       "      <td>0.0094</td>\n",
       "      <td>0.0026</td>\n",
       "      <td>1.8673</td>\n",
       "      <td>0.0053</td>\n",
       "      <td>0.0188</td>\n",
       "      <td>0.0057</td>\n",
       "      <td>353.8319</td>\n",
       "      <td>-1</td>\n",
       "    </tr>\n",
       "  </tbody>\n",
       "</table>\n",
       "<p>5 rows × 592 columns</p>\n",
       "</div>"
      ],
      "text/plain": [
       "        Wafer  Sensor-1  Sensor-2   Sensor-3   Sensor-4  Sensor-5  Sensor-6  \\\n",
       "0  Wafer-1201   3045.98   2544.85  2253.3444  1873.8678    1.1691       100   \n",
       "1  Wafer-1202   3151.98   2563.75  2175.2556  1022.1660    1.2833       100   \n",
       "2  Wafer-1203   3071.18   2489.86  2195.3000  1151.8233    0.9220       100   \n",
       "3  Wafer-1204   2958.46   2523.78  2171.8556  1156.6018    1.4025       100   \n",
       "4  Wafer-1205   3196.21   2413.39  2255.5222  1763.0739    1.2226       100   \n",
       "\n",
       "   Sensor-7  Sensor-8  Sensor-9  ...  Sensor-582  Sensor-583  Sensor-584  \\\n",
       "0   94.9722    0.1210    1.4752  ...         NaN      0.4948      0.0123   \n",
       "1  100.6222    0.1250    1.4536  ...         NaN      0.5063      0.0113   \n",
       "2  103.5467    0.1232    1.4826  ...         NaN      0.5033      0.0112   \n",
       "3  100.1367    0.1243    1.4645  ...         NaN      0.4954      0.0136   \n",
       "4  101.5878    0.1200    1.4845  ...    353.8319      0.5058      0.0094   \n",
       "\n",
       "   Sensor-585  Sensor-586  Sensor-587  Sensor-588  Sensor-589  Sensor-590  \\\n",
       "0      0.0033      2.4804      0.0291      0.0102      0.0033     35.0279   \n",
       "1      0.0031      2.2284      0.0291      0.0102      0.0033     35.0279   \n",
       "2      0.0029      2.2320      0.0291      0.0102      0.0033     35.0279   \n",
       "3      0.0033      2.7511      0.0291      0.0102      0.0033     35.0279   \n",
       "4      0.0026      1.8673      0.0053      0.0188      0.0057    353.8319   \n",
       "\n",
       "   Good/Bad  \n",
       "0        -1  \n",
       "1        -1  \n",
       "2        -1  \n",
       "3        -1  \n",
       "4        -1  \n",
       "\n",
       "[5 rows x 592 columns]"
      ]
     },
     "execution_count": 27,
     "metadata": {},
     "output_type": "execute_result"
    }
   ],
   "source": [
    "file_path = \"/Users/admin/Documents/Projects/wafer_fault_detection_1/code/Training_Raw_Files_Validated/Good_Raw/wafer_13012020_090817.csv\"\n",
    "df = pd.read_csv(file_path)\n",
    "df.head()"
   ]
  },
  {
   "cell_type": "code",
   "execution_count": 29,
   "id": "7bd3a900",
   "metadata": {},
   "outputs": [
    {
     "data": {
      "text/plain": [
       "['Wafer',\n",
       " 'Sensor-1',\n",
       " 'Sensor-2',\n",
       " 'Sensor-3',\n",
       " 'Sensor-4',\n",
       " 'Sensor-5',\n",
       " 'Sensor-6',\n",
       " 'Sensor-7',\n",
       " 'Sensor-8',\n",
       " 'Sensor-9',\n",
       " 'Sensor-10',\n",
       " 'Sensor-11',\n",
       " 'Sensor-12',\n",
       " 'Sensor-13',\n",
       " 'Sensor-14',\n",
       " 'Sensor-15',\n",
       " 'Sensor-16',\n",
       " 'Sensor-17',\n",
       " 'Sensor-18',\n",
       " 'Sensor-19',\n",
       " 'Sensor-20',\n",
       " 'Sensor-21',\n",
       " 'Sensor-22',\n",
       " 'Sensor-23',\n",
       " 'Sensor-24',\n",
       " 'Sensor-25',\n",
       " 'Sensor-26',\n",
       " 'Sensor-27',\n",
       " 'Sensor-28',\n",
       " 'Sensor-29',\n",
       " 'Sensor-30',\n",
       " 'Sensor-31',\n",
       " 'Sensor-32',\n",
       " 'Sensor-33',\n",
       " 'Sensor-34',\n",
       " 'Sensor-35',\n",
       " 'Sensor-36',\n",
       " 'Sensor-37',\n",
       " 'Sensor-38',\n",
       " 'Sensor-39',\n",
       " 'Sensor-40',\n",
       " 'Sensor-41',\n",
       " 'Sensor-42',\n",
       " 'Sensor-43',\n",
       " 'Sensor-44',\n",
       " 'Sensor-45',\n",
       " 'Sensor-46',\n",
       " 'Sensor-47',\n",
       " 'Sensor-48',\n",
       " 'Sensor-49',\n",
       " 'Sensor-50',\n",
       " 'Sensor-51',\n",
       " 'Sensor-52',\n",
       " 'Sensor-53',\n",
       " 'Sensor-54',\n",
       " 'Sensor-55',\n",
       " 'Sensor-56',\n",
       " 'Sensor-57',\n",
       " 'Sensor-58',\n",
       " 'Sensor-59',\n",
       " 'Sensor-60',\n",
       " 'Sensor-61',\n",
       " 'Sensor-62',\n",
       " 'Sensor-63',\n",
       " 'Sensor-64',\n",
       " 'Sensor-65',\n",
       " 'Sensor-66',\n",
       " 'Sensor-67',\n",
       " 'Sensor-68',\n",
       " 'Sensor-69',\n",
       " 'Sensor-70',\n",
       " 'Sensor-71',\n",
       " 'Sensor-72',\n",
       " 'Sensor-73',\n",
       " 'Sensor-74',\n",
       " 'Sensor-75',\n",
       " 'Sensor-76',\n",
       " 'Sensor-77',\n",
       " 'Sensor-78',\n",
       " 'Sensor-79',\n",
       " 'Sensor-80',\n",
       " 'Sensor-81',\n",
       " 'Sensor-82',\n",
       " 'Sensor-83',\n",
       " 'Sensor-84',\n",
       " 'Sensor-85',\n",
       " 'Sensor-86',\n",
       " 'Sensor-87',\n",
       " 'Sensor-88',\n",
       " 'Sensor-89',\n",
       " 'Sensor-90',\n",
       " 'Sensor-91',\n",
       " 'Sensor-92',\n",
       " 'Sensor-93',\n",
       " 'Sensor-94',\n",
       " 'Sensor-95',\n",
       " 'Sensor-96',\n",
       " 'Sensor-97',\n",
       " 'Sensor-98',\n",
       " 'Sensor-99',\n",
       " 'Sensor-100',\n",
       " 'Sensor-101',\n",
       " 'Sensor-102',\n",
       " 'Sensor-103',\n",
       " 'Sensor-104',\n",
       " 'Sensor-105',\n",
       " 'Sensor-106',\n",
       " 'Sensor-107',\n",
       " 'Sensor-108',\n",
       " 'Sensor-109',\n",
       " 'Sensor-110',\n",
       " 'Sensor-111',\n",
       " 'Sensor-112',\n",
       " 'Sensor-113',\n",
       " 'Sensor-114',\n",
       " 'Sensor-115',\n",
       " 'Sensor-116',\n",
       " 'Sensor-117',\n",
       " 'Sensor-118',\n",
       " 'Sensor-119',\n",
       " 'Sensor-120',\n",
       " 'Sensor-121',\n",
       " 'Sensor-122',\n",
       " 'Sensor-123',\n",
       " 'Sensor-124',\n",
       " 'Sensor-125',\n",
       " 'Sensor-126',\n",
       " 'Sensor-127',\n",
       " 'Sensor-128',\n",
       " 'Sensor-129',\n",
       " 'Sensor-130',\n",
       " 'Sensor-131',\n",
       " 'Sensor-132',\n",
       " 'Sensor-133',\n",
       " 'Sensor-134',\n",
       " 'Sensor-135',\n",
       " 'Sensor-136',\n",
       " 'Sensor-137',\n",
       " 'Sensor-138',\n",
       " 'Sensor-139',\n",
       " 'Sensor-140',\n",
       " 'Sensor-141',\n",
       " 'Sensor-142',\n",
       " 'Sensor-143',\n",
       " 'Sensor-144',\n",
       " 'Sensor-145',\n",
       " 'Sensor-146',\n",
       " 'Sensor-147',\n",
       " 'Sensor-148',\n",
       " 'Sensor-149',\n",
       " 'Sensor-150',\n",
       " 'Sensor-151',\n",
       " 'Sensor-152',\n",
       " 'Sensor-153',\n",
       " 'Sensor-154',\n",
       " 'Sensor-155',\n",
       " 'Sensor-156',\n",
       " 'Sensor-157',\n",
       " 'Sensor-158',\n",
       " 'Sensor-159',\n",
       " 'Sensor-160',\n",
       " 'Sensor-161',\n",
       " 'Sensor-162',\n",
       " 'Sensor-163',\n",
       " 'Sensor-164',\n",
       " 'Sensor-165',\n",
       " 'Sensor-166',\n",
       " 'Sensor-167',\n",
       " 'Sensor-168',\n",
       " 'Sensor-169',\n",
       " 'Sensor-170',\n",
       " 'Sensor-171',\n",
       " 'Sensor-172',\n",
       " 'Sensor-173',\n",
       " 'Sensor-174',\n",
       " 'Sensor-175',\n",
       " 'Sensor-176',\n",
       " 'Sensor-177',\n",
       " 'Sensor-178',\n",
       " 'Sensor-179',\n",
       " 'Sensor-180',\n",
       " 'Sensor-181',\n",
       " 'Sensor-182',\n",
       " 'Sensor-183',\n",
       " 'Sensor-184',\n",
       " 'Sensor-185',\n",
       " 'Sensor-186',\n",
       " 'Sensor-187',\n",
       " 'Sensor-188',\n",
       " 'Sensor-189',\n",
       " 'Sensor-190',\n",
       " 'Sensor-191',\n",
       " 'Sensor-192',\n",
       " 'Sensor-193',\n",
       " 'Sensor-194',\n",
       " 'Sensor-195',\n",
       " 'Sensor-196',\n",
       " 'Sensor-197',\n",
       " 'Sensor-198',\n",
       " 'Sensor-199',\n",
       " 'Sensor-200',\n",
       " 'Sensor-201',\n",
       " 'Sensor-202',\n",
       " 'Sensor-203',\n",
       " 'Sensor-204',\n",
       " 'Sensor-205',\n",
       " 'Sensor-206',\n",
       " 'Sensor-207',\n",
       " 'Sensor-208',\n",
       " 'Sensor-209',\n",
       " 'Sensor-210',\n",
       " 'Sensor-211',\n",
       " 'Sensor-212',\n",
       " 'Sensor-213',\n",
       " 'Sensor-214',\n",
       " 'Sensor-215',\n",
       " 'Sensor-216',\n",
       " 'Sensor-217',\n",
       " 'Sensor-218',\n",
       " 'Sensor-219',\n",
       " 'Sensor-220',\n",
       " 'Sensor-221',\n",
       " 'Sensor-222',\n",
       " 'Sensor-223',\n",
       " 'Sensor-224',\n",
       " 'Sensor-225',\n",
       " 'Sensor-226',\n",
       " 'Sensor-227',\n",
       " 'Sensor-228',\n",
       " 'Sensor-229',\n",
       " 'Sensor-230',\n",
       " 'Sensor-231',\n",
       " 'Sensor-232',\n",
       " 'Sensor-233',\n",
       " 'Sensor-234',\n",
       " 'Sensor-235',\n",
       " 'Sensor-236',\n",
       " 'Sensor-237',\n",
       " 'Sensor-238',\n",
       " 'Sensor-239',\n",
       " 'Sensor-240',\n",
       " 'Sensor-241',\n",
       " 'Sensor-242',\n",
       " 'Sensor-243',\n",
       " 'Sensor-244',\n",
       " 'Sensor-245',\n",
       " 'Sensor-246',\n",
       " 'Sensor-247',\n",
       " 'Sensor-248',\n",
       " 'Sensor-249',\n",
       " 'Sensor-250',\n",
       " 'Sensor-251',\n",
       " 'Sensor-252',\n",
       " 'Sensor-253',\n",
       " 'Sensor-254',\n",
       " 'Sensor-255',\n",
       " 'Sensor-256',\n",
       " 'Sensor-257',\n",
       " 'Sensor-258',\n",
       " 'Sensor-259',\n",
       " 'Sensor-260',\n",
       " 'Sensor-261',\n",
       " 'Sensor-262',\n",
       " 'Sensor-263',\n",
       " 'Sensor-264',\n",
       " 'Sensor-265',\n",
       " 'Sensor-266',\n",
       " 'Sensor-267',\n",
       " 'Sensor-268',\n",
       " 'Sensor-269',\n",
       " 'Sensor-270',\n",
       " 'Sensor-271',\n",
       " 'Sensor-272',\n",
       " 'Sensor-273',\n",
       " 'Sensor-274',\n",
       " 'Sensor-275',\n",
       " 'Sensor-276',\n",
       " 'Sensor-277',\n",
       " 'Sensor-278',\n",
       " 'Sensor-279',\n",
       " 'Sensor-280',\n",
       " 'Sensor-281',\n",
       " 'Sensor-282',\n",
       " 'Sensor-283',\n",
       " 'Sensor-284',\n",
       " 'Sensor-285',\n",
       " 'Sensor-286',\n",
       " 'Sensor-287',\n",
       " 'Sensor-288',\n",
       " 'Sensor-289',\n",
       " 'Sensor-290',\n",
       " 'Sensor-291',\n",
       " 'Sensor-292',\n",
       " 'Sensor-293',\n",
       " 'Sensor-294',\n",
       " 'Sensor-295',\n",
       " 'Sensor-296',\n",
       " 'Sensor-297',\n",
       " 'Sensor-298',\n",
       " 'Sensor-299',\n",
       " 'Sensor-300',\n",
       " 'Sensor-301',\n",
       " 'Sensor-302',\n",
       " 'Sensor-303',\n",
       " 'Sensor-304',\n",
       " 'Sensor-305',\n",
       " 'Sensor-306',\n",
       " 'Sensor-307',\n",
       " 'Sensor-308',\n",
       " 'Sensor-309',\n",
       " 'Sensor-310',\n",
       " 'Sensor-311',\n",
       " 'Sensor-312',\n",
       " 'Sensor-313',\n",
       " 'Sensor-314',\n",
       " 'Sensor-315',\n",
       " 'Sensor-316',\n",
       " 'Sensor-317',\n",
       " 'Sensor-318',\n",
       " 'Sensor-319',\n",
       " 'Sensor-320',\n",
       " 'Sensor-321',\n",
       " 'Sensor-322',\n",
       " 'Sensor-323',\n",
       " 'Sensor-324',\n",
       " 'Sensor-325',\n",
       " 'Sensor-326',\n",
       " 'Sensor-327',\n",
       " 'Sensor-328',\n",
       " 'Sensor-329',\n",
       " 'Sensor-330',\n",
       " 'Sensor-331',\n",
       " 'Sensor-332',\n",
       " 'Sensor-333',\n",
       " 'Sensor-334',\n",
       " 'Sensor-335',\n",
       " 'Sensor-336',\n",
       " 'Sensor-337',\n",
       " 'Sensor-338',\n",
       " 'Sensor-339',\n",
       " 'Sensor-340',\n",
       " 'Sensor-341',\n",
       " 'Sensor-342',\n",
       " 'Sensor-343',\n",
       " 'Sensor-344',\n",
       " 'Sensor-345',\n",
       " 'Sensor-346',\n",
       " 'Sensor-347',\n",
       " 'Sensor-348',\n",
       " 'Sensor-349',\n",
       " 'Sensor-350',\n",
       " 'Sensor-351',\n",
       " 'Sensor-352',\n",
       " 'Sensor-353',\n",
       " 'Sensor-354',\n",
       " 'Sensor-355',\n",
       " 'Sensor-356',\n",
       " 'Sensor-357',\n",
       " 'Sensor-358',\n",
       " 'Sensor-359',\n",
       " 'Sensor-360',\n",
       " 'Sensor-361',\n",
       " 'Sensor-362',\n",
       " 'Sensor-363',\n",
       " 'Sensor-364',\n",
       " 'Sensor-365',\n",
       " 'Sensor-366',\n",
       " 'Sensor-367',\n",
       " 'Sensor-368',\n",
       " 'Sensor-369',\n",
       " 'Sensor-370',\n",
       " 'Sensor-371',\n",
       " 'Sensor-372',\n",
       " 'Sensor-373',\n",
       " 'Sensor-374',\n",
       " 'Sensor-375',\n",
       " 'Sensor-376',\n",
       " 'Sensor-377',\n",
       " 'Sensor-378',\n",
       " 'Sensor-379',\n",
       " 'Sensor-380',\n",
       " 'Sensor-381',\n",
       " 'Sensor-382',\n",
       " 'Sensor-383',\n",
       " 'Sensor-384',\n",
       " 'Sensor-385',\n",
       " 'Sensor-386',\n",
       " 'Sensor-387',\n",
       " 'Sensor-388',\n",
       " 'Sensor-389',\n",
       " 'Sensor-390',\n",
       " 'Sensor-391',\n",
       " 'Sensor-392',\n",
       " 'Sensor-393',\n",
       " 'Sensor-394',\n",
       " 'Sensor-395',\n",
       " 'Sensor-396',\n",
       " 'Sensor-397',\n",
       " 'Sensor-398',\n",
       " 'Sensor-399',\n",
       " 'Sensor-400',\n",
       " 'Sensor-401',\n",
       " 'Sensor-402',\n",
       " 'Sensor-403',\n",
       " 'Sensor-404',\n",
       " 'Sensor-405',\n",
       " 'Sensor-406',\n",
       " 'Sensor-407',\n",
       " 'Sensor-408',\n",
       " 'Sensor-409',\n",
       " 'Sensor-410',\n",
       " 'Sensor-411',\n",
       " 'Sensor-412',\n",
       " 'Sensor-413',\n",
       " 'Sensor-414',\n",
       " 'Sensor-415',\n",
       " 'Sensor-416',\n",
       " 'Sensor-417',\n",
       " 'Sensor-418',\n",
       " 'Sensor-419',\n",
       " 'Sensor-420',\n",
       " 'Sensor-421',\n",
       " 'Sensor-422',\n",
       " 'Sensor-423',\n",
       " 'Sensor-424',\n",
       " 'Sensor-425',\n",
       " 'Sensor-426',\n",
       " 'Sensor-427',\n",
       " 'Sensor-428',\n",
       " 'Sensor-429',\n",
       " 'Sensor-430',\n",
       " 'Sensor-431',\n",
       " 'Sensor-432',\n",
       " 'Sensor-433',\n",
       " 'Sensor-434',\n",
       " 'Sensor-435',\n",
       " 'Sensor-436',\n",
       " 'Sensor-437',\n",
       " 'Sensor-438',\n",
       " 'Sensor-439',\n",
       " 'Sensor-440',\n",
       " 'Sensor-441',\n",
       " 'Sensor-442',\n",
       " 'Sensor-443',\n",
       " 'Sensor-444',\n",
       " 'Sensor-445',\n",
       " 'Sensor-446',\n",
       " 'Sensor-447',\n",
       " 'Sensor-448',\n",
       " 'Sensor-449',\n",
       " 'Sensor-450',\n",
       " 'Sensor-451',\n",
       " 'Sensor-452',\n",
       " 'Sensor-453',\n",
       " 'Sensor-454',\n",
       " 'Sensor-455',\n",
       " 'Sensor-456',\n",
       " 'Sensor-457',\n",
       " 'Sensor-458',\n",
       " 'Sensor-459',\n",
       " 'Sensor-460',\n",
       " 'Sensor-461',\n",
       " 'Sensor-462',\n",
       " 'Sensor-463',\n",
       " 'Sensor-464',\n",
       " 'Sensor-465',\n",
       " 'Sensor-466',\n",
       " 'Sensor-467',\n",
       " 'Sensor-468',\n",
       " 'Sensor-469',\n",
       " 'Sensor-470',\n",
       " 'Sensor-471',\n",
       " 'Sensor-472',\n",
       " 'Sensor-473',\n",
       " 'Sensor-474',\n",
       " 'Sensor-475',\n",
       " 'Sensor-476',\n",
       " 'Sensor-477',\n",
       " 'Sensor-478',\n",
       " 'Sensor-479',\n",
       " 'Sensor-480',\n",
       " 'Sensor-481',\n",
       " 'Sensor-482',\n",
       " 'Sensor-483',\n",
       " 'Sensor-484',\n",
       " 'Sensor-485',\n",
       " 'Sensor-486',\n",
       " 'Sensor-487',\n",
       " 'Sensor-488',\n",
       " 'Sensor-489',\n",
       " 'Sensor-490',\n",
       " 'Sensor-491',\n",
       " 'Sensor-492',\n",
       " 'Sensor-493',\n",
       " 'Sensor-494',\n",
       " 'Sensor-495',\n",
       " 'Sensor-496',\n",
       " 'Sensor-497',\n",
       " 'Sensor-498',\n",
       " 'Sensor-499',\n",
       " 'Sensor-500',\n",
       " 'Sensor-501',\n",
       " 'Sensor-502',\n",
       " 'Sensor-503',\n",
       " 'Sensor-504',\n",
       " 'Sensor-505',\n",
       " 'Sensor-506',\n",
       " 'Sensor-507',\n",
       " 'Sensor-508',\n",
       " 'Sensor-509',\n",
       " 'Sensor-510',\n",
       " 'Sensor-511',\n",
       " 'Sensor-512',\n",
       " 'Sensor-513',\n",
       " 'Sensor-514',\n",
       " 'Sensor-515',\n",
       " 'Sensor-516',\n",
       " 'Sensor-517',\n",
       " 'Sensor-518',\n",
       " 'Sensor-519',\n",
       " 'Sensor-520',\n",
       " 'Sensor-521',\n",
       " 'Sensor-522',\n",
       " 'Sensor-523',\n",
       " 'Sensor-524',\n",
       " 'Sensor-525',\n",
       " 'Sensor-526',\n",
       " 'Sensor-527',\n",
       " 'Sensor-528',\n",
       " 'Sensor-529',\n",
       " 'Sensor-530',\n",
       " 'Sensor-531',\n",
       " 'Sensor-532',\n",
       " 'Sensor-533',\n",
       " 'Sensor-534',\n",
       " 'Sensor-535',\n",
       " 'Sensor-536',\n",
       " 'Sensor-537',\n",
       " 'Sensor-538',\n",
       " 'Sensor-539',\n",
       " 'Sensor-540',\n",
       " 'Sensor-541',\n",
       " 'Sensor-542',\n",
       " 'Sensor-543',\n",
       " 'Sensor-544',\n",
       " 'Sensor-545',\n",
       " 'Sensor-546',\n",
       " 'Sensor-547',\n",
       " 'Sensor-548',\n",
       " 'Sensor-549',\n",
       " 'Sensor-550',\n",
       " 'Sensor-551',\n",
       " 'Sensor-552',\n",
       " 'Sensor-553',\n",
       " 'Sensor-554',\n",
       " 'Sensor-555',\n",
       " 'Sensor-556',\n",
       " 'Sensor-557',\n",
       " 'Sensor-558',\n",
       " 'Sensor-559',\n",
       " 'Sensor-560',\n",
       " 'Sensor-561',\n",
       " 'Sensor-562',\n",
       " 'Sensor-563',\n",
       " 'Sensor-564',\n",
       " 'Sensor-565',\n",
       " 'Sensor-566',\n",
       " 'Sensor-567',\n",
       " 'Sensor-568',\n",
       " 'Sensor-569',\n",
       " 'Sensor-570',\n",
       " 'Sensor-571',\n",
       " 'Sensor-572',\n",
       " 'Sensor-573',\n",
       " 'Sensor-574',\n",
       " 'Sensor-575',\n",
       " 'Sensor-576',\n",
       " 'Sensor-577',\n",
       " 'Sensor-578',\n",
       " 'Sensor-579',\n",
       " 'Sensor-580',\n",
       " 'Sensor-581',\n",
       " 'Sensor-582',\n",
       " 'Sensor-583',\n",
       " 'Sensor-584',\n",
       " 'Sensor-585',\n",
       " 'Sensor-586',\n",
       " 'Sensor-587',\n",
       " 'Sensor-588',\n",
       " 'Sensor-589',\n",
       " 'Sensor-590',\n",
       " 'Good/Bad']"
      ]
     },
     "execution_count": 29,
     "metadata": {},
     "output_type": "execute_result"
    }
   ],
   "source": [
    "list(df.columns)"
   ]
  },
  {
   "cell_type": "code",
   "execution_count": 18,
   "id": "c34c0b7d",
   "metadata": {},
   "outputs": [],
   "source": [
    "import pandas as pd\n",
    "\n",
    "path = \"/Users/admin/Documents/Projects/wafer_fault_detection_1/code/Training_FileFromDB/InputFile.csv\"\n",
    "df = pd.read_csv(path)"
   ]
  },
  {
   "cell_type": "code",
   "execution_count": 19,
   "id": "9e2d0bfd",
   "metadata": {},
   "outputs": [
    {
     "data": {
      "text/html": [
       "<div>\n",
       "<style scoped>\n",
       "    .dataframe tbody tr th:only-of-type {\n",
       "        vertical-align: middle;\n",
       "    }\n",
       "\n",
       "    .dataframe tbody tr th {\n",
       "        vertical-align: top;\n",
       "    }\n",
       "\n",
       "    .dataframe thead th {\n",
       "        text-align: right;\n",
       "    }\n",
       "</style>\n",
       "<table border=\"1\" class=\"dataframe\">\n",
       "  <thead>\n",
       "    <tr style=\"text-align: right;\">\n",
       "      <th></th>\n",
       "      <th>Output</th>\n",
       "      <th>Sensor-1</th>\n",
       "      <th>Sensor-10</th>\n",
       "      <th>Sensor-100</th>\n",
       "      <th>Sensor-101</th>\n",
       "      <th>Sensor-102</th>\n",
       "      <th>Sensor-103</th>\n",
       "      <th>Sensor-104</th>\n",
       "      <th>Sensor-105</th>\n",
       "      <th>Sensor-106</th>\n",
       "      <th>...</th>\n",
       "      <th>Sensor-91</th>\n",
       "      <th>Sensor-92</th>\n",
       "      <th>Sensor-93</th>\n",
       "      <th>Sensor-94</th>\n",
       "      <th>Sensor-95</th>\n",
       "      <th>Sensor-96</th>\n",
       "      <th>Sensor-97</th>\n",
       "      <th>Sensor-98</th>\n",
       "      <th>Sensor-99</th>\n",
       "      <th>Wafer</th>\n",
       "    </tr>\n",
       "  </thead>\n",
       "  <tbody>\n",
       "    <tr>\n",
       "      <th>0</th>\n",
       "      <td>-1</td>\n",
       "      <td>3045.98</td>\n",
       "      <td>0.0084</td>\n",
       "      <td>-0.0437</td>\n",
       "      <td>0.0004</td>\n",
       "      <td>0.0001</td>\n",
       "      <td>0.0315</td>\n",
       "      <td>-0.0088</td>\n",
       "      <td>0.0006</td>\n",
       "      <td>0.0000</td>\n",
       "      <td>...</td>\n",
       "      <td>8921.1000</td>\n",
       "      <td>-0.0293</td>\n",
       "      <td>0.0000</td>\n",
       "      <td>-0.0005</td>\n",
       "      <td>0.0001</td>\n",
       "      <td>0.0001</td>\n",
       "      <td>-0.1833</td>\n",
       "      <td>0.0</td>\n",
       "      <td>0.1081</td>\n",
       "      <td>Wafer-1201</td>\n",
       "    </tr>\n",
       "    <tr>\n",
       "      <th>1</th>\n",
       "      <td>-1</td>\n",
       "      <td>3151.98</td>\n",
       "      <td>-0.0110</td>\n",
       "      <td>-0.0130</td>\n",
       "      <td>-0.0001</td>\n",
       "      <td>0.0001</td>\n",
       "      <td>-0.0629</td>\n",
       "      <td>-0.0138</td>\n",
       "      <td>0.0002</td>\n",
       "      <td>0.0005</td>\n",
       "      <td>...</td>\n",
       "      <td>9001.9300</td>\n",
       "      <td>0.0297</td>\n",
       "      <td>-0.0005</td>\n",
       "      <td>0.0002</td>\n",
       "      <td>0.0000</td>\n",
       "      <td>0.0000</td>\n",
       "      <td>-0.0536</td>\n",
       "      <td>0.0</td>\n",
       "      <td>0.1905</td>\n",
       "      <td>Wafer-1202</td>\n",
       "    </tr>\n",
       "    <tr>\n",
       "      <th>2</th>\n",
       "      <td>-1</td>\n",
       "      <td>3071.18</td>\n",
       "      <td>0.0136</td>\n",
       "      <td>-0.0288</td>\n",
       "      <td>-0.0001</td>\n",
       "      <td>0.0002</td>\n",
       "      <td>-0.0181</td>\n",
       "      <td>-0.0139</td>\n",
       "      <td>0.0004</td>\n",
       "      <td>0.0018</td>\n",
       "      <td>...</td>\n",
       "      <td>8915.4501</td>\n",
       "      <td>0.0256</td>\n",
       "      <td>-0.0018</td>\n",
       "      <td>0.0022</td>\n",
       "      <td>0.0001</td>\n",
       "      <td>0.0001</td>\n",
       "      <td>-0.1594</td>\n",
       "      <td>0.0</td>\n",
       "      <td>0.3528</td>\n",
       "      <td>Wafer-1203</td>\n",
       "    </tr>\n",
       "    <tr>\n",
       "      <th>3</th>\n",
       "      <td>-1</td>\n",
       "      <td>2958.46</td>\n",
       "      <td>0.0001</td>\n",
       "      <td>-0.0167</td>\n",
       "      <td>0.0003</td>\n",
       "      <td>0.0000</td>\n",
       "      <td>-0.0447</td>\n",
       "      <td>-0.0076</td>\n",
       "      <td>0.0002</td>\n",
       "      <td>0.0015</td>\n",
       "      <td>...</td>\n",
       "      <td>8721.5101</td>\n",
       "      <td>0.0349</td>\n",
       "      <td>-0.0015</td>\n",
       "      <td>0.0017</td>\n",
       "      <td>0.0000</td>\n",
       "      <td>0.0001</td>\n",
       "      <td>-0.1031</td>\n",
       "      <td>0.0</td>\n",
       "      <td>0.0253</td>\n",
       "      <td>Wafer-1204</td>\n",
       "    </tr>\n",
       "    <tr>\n",
       "      <th>4</th>\n",
       "      <td>-1</td>\n",
       "      <td>3196.21</td>\n",
       "      <td>-0.0037</td>\n",
       "      <td>0.0028</td>\n",
       "      <td>0.0002</td>\n",
       "      <td>0.0000</td>\n",
       "      <td>-0.0227</td>\n",
       "      <td>-0.0109</td>\n",
       "      <td>0.0000</td>\n",
       "      <td>-0.0019</td>\n",
       "      <td>...</td>\n",
       "      <td>8813.7300</td>\n",
       "      <td>-0.0799</td>\n",
       "      <td>0.0019</td>\n",
       "      <td>0.0001</td>\n",
       "      <td>0.0000</td>\n",
       "      <td>0.0001</td>\n",
       "      <td>-0.0240</td>\n",
       "      <td>0.0</td>\n",
       "      <td>-0.1050</td>\n",
       "      <td>Wafer-1205</td>\n",
       "    </tr>\n",
       "  </tbody>\n",
       "</table>\n",
       "<p>5 rows × 592 columns</p>\n",
       "</div>"
      ],
      "text/plain": [
       "   Output  Sensor-1  Sensor-10  Sensor-100  Sensor-101  Sensor-102  \\\n",
       "0      -1   3045.98     0.0084     -0.0437      0.0004      0.0001   \n",
       "1      -1   3151.98    -0.0110     -0.0130     -0.0001      0.0001   \n",
       "2      -1   3071.18     0.0136     -0.0288     -0.0001      0.0002   \n",
       "3      -1   2958.46     0.0001     -0.0167      0.0003      0.0000   \n",
       "4      -1   3196.21    -0.0037      0.0028      0.0002      0.0000   \n",
       "\n",
       "   Sensor-103  Sensor-104  Sensor-105  Sensor-106  ...  Sensor-91  Sensor-92  \\\n",
       "0      0.0315     -0.0088      0.0006      0.0000  ...  8921.1000    -0.0293   \n",
       "1     -0.0629     -0.0138      0.0002      0.0005  ...  9001.9300     0.0297   \n",
       "2     -0.0181     -0.0139      0.0004      0.0018  ...  8915.4501     0.0256   \n",
       "3     -0.0447     -0.0076      0.0002      0.0015  ...  8721.5101     0.0349   \n",
       "4     -0.0227     -0.0109      0.0000     -0.0019  ...  8813.7300    -0.0799   \n",
       "\n",
       "   Sensor-93  Sensor-94  Sensor-95  Sensor-96  Sensor-97  Sensor-98  \\\n",
       "0     0.0000    -0.0005     0.0001     0.0001    -0.1833        0.0   \n",
       "1    -0.0005     0.0002     0.0000     0.0000    -0.0536        0.0   \n",
       "2    -0.0018     0.0022     0.0001     0.0001    -0.1594        0.0   \n",
       "3    -0.0015     0.0017     0.0000     0.0001    -0.1031        0.0   \n",
       "4     0.0019     0.0001     0.0000     0.0001    -0.0240        0.0   \n",
       "\n",
       "   Sensor-99       Wafer  \n",
       "0     0.1081  Wafer-1201  \n",
       "1     0.1905  Wafer-1202  \n",
       "2     0.3528  Wafer-1203  \n",
       "3     0.0253  Wafer-1204  \n",
       "4    -0.1050  Wafer-1205  \n",
       "\n",
       "[5 rows x 592 columns]"
      ]
     },
     "execution_count": 19,
     "metadata": {},
     "output_type": "execute_result"
    }
   ],
   "source": [
    "df.head()"
   ]
  },
  {
   "cell_type": "code",
   "execution_count": 68,
   "id": "29043b33",
   "metadata": {},
   "outputs": [],
   "source": [
    "import os\n",
    "\n",
    "file_path = \"/Users/admin/Documents/Projects/wafer_fault_detection_1/code/Prediction_Logs\"\n",
    "files = os.listdir(file_path)\n",
    "onlyfiles = [file for file in files if os.path.exists(os.path.join(file_path, file)) and file!='.DS_Store']\n",
    "\n",
    "\n",
    "for file in onlyfiles:\n",
    "    with open(os.path.join(file_path, file), \"w\"):\n",
    "        pass"
   ]
  },
  {
   "cell_type": "code",
   "execution_count": 69,
   "id": "ef60c5f3",
   "metadata": {},
   "outputs": [
    {
     "data": {
      "text/html": [
       "<div>\n",
       "<style scoped>\n",
       "    .dataframe tbody tr th:only-of-type {\n",
       "        vertical-align: middle;\n",
       "    }\n",
       "\n",
       "    .dataframe tbody tr th {\n",
       "        vertical-align: top;\n",
       "    }\n",
       "\n",
       "    .dataframe thead th {\n",
       "        text-align: right;\n",
       "    }\n",
       "</style>\n",
       "<table border=\"1\" class=\"dataframe\">\n",
       "  <thead>\n",
       "    <tr style=\"text-align: right;\">\n",
       "      <th></th>\n",
       "      <th>Unnamed: 0</th>\n",
       "      <th>Wafer</th>\n",
       "      <th>Prediction</th>\n",
       "    </tr>\n",
       "  </thead>\n",
       "  <tbody>\n",
       "    <tr>\n",
       "      <th>0</th>\n",
       "      <td>0.0</td>\n",
       "      <td>Wafer-1</td>\n",
       "      <td>-1</td>\n",
       "    </tr>\n",
       "    <tr>\n",
       "      <th>1</th>\n",
       "      <td>1.0</td>\n",
       "      <td>Wafer-2</td>\n",
       "      <td>-1</td>\n",
       "    </tr>\n",
       "    <tr>\n",
       "      <th>2</th>\n",
       "      <td>2.0</td>\n",
       "      <td>Wafer-3</td>\n",
       "      <td>-1</td>\n",
       "    </tr>\n",
       "    <tr>\n",
       "      <th>3</th>\n",
       "      <td>3.0</td>\n",
       "      <td>Wafer-4</td>\n",
       "      <td>-1</td>\n",
       "    </tr>\n",
       "    <tr>\n",
       "      <th>4</th>\n",
       "      <td>4.0</td>\n",
       "      <td>Wafer-5</td>\n",
       "      <td>-1</td>\n",
       "    </tr>\n",
       "  </tbody>\n",
       "</table>\n",
       "</div>"
      ],
      "text/plain": [
       "   Unnamed: 0    Wafer Prediction\n",
       "0         0.0  Wafer-1         -1\n",
       "1         1.0  Wafer-2         -1\n",
       "2         2.0  Wafer-3         -1\n",
       "3         3.0  Wafer-4         -1\n",
       "4         4.0  Wafer-5         -1"
      ]
     },
     "execution_count": 69,
     "metadata": {},
     "output_type": "execute_result"
    }
   ],
   "source": [
    "path = \"/Users/admin/Documents/Projects/wafer_fault_detection_1/code/Prediction_Output_File/Predictions.csv\"\n",
    "df = pd.read_csv(path)\n",
    "df.head()"
   ]
  },
  {
   "cell_type": "code",
   "execution_count": 36,
   "id": "6835664a",
   "metadata": {},
   "outputs": [
    {
     "data": {
      "text/plain": [
       "(4611, 591)"
      ]
     },
     "execution_count": 36,
     "metadata": {},
     "output_type": "execute_result"
    }
   ],
   "source": [
    "df.shape"
   ]
  },
  {
   "cell_type": "code",
   "execution_count": 37,
   "id": "fe6f13d6",
   "metadata": {},
   "outputs": [],
   "source": [
    "duplicate_rows = df[df.duplicated()]"
   ]
  },
  {
   "cell_type": "code",
   "execution_count": 39,
   "id": "5f893161",
   "metadata": {},
   "outputs": [],
   "source": [
    "import pickle"
   ]
  },
  {
   "cell_type": "code",
   "execution_count": 40,
   "id": "2d5e3378",
   "metadata": {},
   "outputs": [],
   "source": [
    "model_path = \"/Users/admin/Documents/Projects/wafer_fault_detection_1/code/models/KMeans/KMeans.sav\""
   ]
  },
  {
   "cell_type": "code",
   "execution_count": 45,
   "id": "7af0d3a6",
   "metadata": {},
   "outputs": [
    {
     "name": "stderr",
     "output_type": "stream",
     "text": [
      "/opt/anaconda3/envs/ml/lib/python3.7/site-packages/sklearn/base.py:338: UserWarning: Trying to unpickle estimator KMeans from version 0.22.1 when using version 1.0.2. This might lead to breaking code or invalid results. Use at your own risk. For more info please refer to:\n",
      "https://scikit-learn.org/stable/modules/model_persistence.html#security-maintainability-limitations\n",
      "  UserWarning,\n"
     ]
    }
   ],
   "source": [
    "with open(model_path, \"rb\") as f:\n",
    "    kmeans = pickle.load(f)"
   ]
  },
  {
   "cell_type": "code",
   "execution_count": 51,
   "id": "1e29646b",
   "metadata": {},
   "outputs": [
    {
     "data": {
      "text/plain": [
       "(200,)"
      ]
     },
     "execution_count": 51,
     "metadata": {},
     "output_type": "execute_result"
    }
   ],
   "source": [
    "kmeans.labels_.shape"
   ]
  },
  {
   "cell_type": "code",
   "execution_count": 55,
   "id": "d62d1669",
   "metadata": {},
   "outputs": [],
   "source": [
    "import pickle"
   ]
  },
  {
   "cell_type": "code",
   "execution_count": 60,
   "id": "77c62e88",
   "metadata": {},
   "outputs": [],
   "source": [
    "path = \"/Users/admin/Documents/Projects/wafer_fault_detection_1/code/models/XGBoost_0/XGBoost_0.sav\"\n",
    "with open(path, \"rb\") as f:\n",
    "    model = pickle.load(f)"
   ]
  },
  {
   "cell_type": "code",
   "execution_count": 61,
   "id": "87dc8f56",
   "metadata": {},
   "outputs": [
    {
     "data": {
      "text/plain": [
       "1.0"
      ]
     },
     "execution_count": 61,
     "metadata": {},
     "output_type": "execute_result"
    }
   ],
   "source": [
    "model"
   ]
  },
  {
   "cell_type": "code",
   "execution_count": 63,
   "id": "840534bf",
   "metadata": {},
   "outputs": [
    {
     "name": "stdout",
     "output_type": "stream",
     "text": [
      "<_io.BufferedReader name='/Users/admin/Documents/Projects/wafer_fault_detection_1/code/models/XGBoost_0/XGBoost_0.sav'>\n",
      "1.0\n"
     ]
    }
   ],
   "source": [
    "with open(\"/Users/admin/Documents/Projects/wafer_fault_detection_1/code/models/XGBoost_0/XGBoost_0.sav\", \"rb\") as file:\n",
    "    print(file)\n",
    "    loaded_model = pickle.load(file)\n",
    "    print(loaded_model)"
   ]
  },
  {
   "cell_type": "code",
   "execution_count": 66,
   "id": "3ac66111",
   "metadata": {},
   "outputs": [
    {
     "data": {
      "text/plain": [
       "KMeans(n_clusters=3, random_state=42)"
      ]
     },
     "execution_count": 66,
     "metadata": {},
     "output_type": "execute_result"
    }
   ],
   "source": [
    "import pandas as pd\n",
    "\n",
    "path = \"/Users/admin/Documents/Projects/wafer_fault_detection_1/code/models/KMeans/KMeans.sav\"\n",
    "pd.read_pickle(path)"
   ]
  },
  {
   "cell_type": "code",
   "execution_count": null,
   "id": "ef42905d",
   "metadata": {},
   "outputs": [],
   "source": []
  }
 ],
 "metadata": {
  "kernelspec": {
   "display_name": "Python 3 (ipykernel)",
   "language": "python",
   "name": "python3"
  },
  "language_info": {
   "codemirror_mode": {
    "name": "ipython",
    "version": 3
   },
   "file_extension": ".py",
   "mimetype": "text/x-python",
   "name": "python",
   "nbconvert_exporter": "python",
   "pygments_lexer": "ipython3",
   "version": "3.7.16"
  }
 },
 "nbformat": 4,
 "nbformat_minor": 5
}
